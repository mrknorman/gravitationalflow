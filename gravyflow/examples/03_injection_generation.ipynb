{
 "cells": [
  {
   "cell_type": "markdown",
   "metadata": {},
   "source": [
    "# Notebook 3: Injection Generation\n",
    "\n",
    "In this notebook, we will explore how to generate waveforms with GravyFlow, which can be used to approximate gravitational wave signals. Throughout the GravyFlow library, a significant amount of computation is performed on the GPU. This approach means that there may be some initial overheads compared to CPU calculations, so individual operations might perform more slowly. However, when used for thousands of iterations, GravyFlow methods are often orders of magnitude faster than the functions they were adapted from.\n",
    "\n",
    "**Note:** As with the previous notebook, the iterators demonstrated in this notebook are not necessarily recommended for use in training machine learning models. Even if you only require waveforms, without any obfuscating noise, it is probably more convenient to use `gf.Dataset`, which will be explained in a later notebook. However, instances of `gf.Dataset` are composed by combining iterators of the type produced in this notebook with iterators shown in subsequent notebooks. Therefore, understanding the function of these iterators is useful.\n",
    "\n",
    "We will begin by performing the necessary imports:"
   ]
  },
  {
   "cell_type": "code",
   "execution_count": null,
   "metadata": {},
   "outputs": [],
   "source": [
    "# Built-in imports\n",
    "from typing import List, Dict\n",
    "from pathlib import Path\n",
    "\n",
    "# Dependency imports: \n",
    "import numpy as np\n",
    "import tensorflow as tf\n",
    "from bokeh.io import show, output_notebook\n",
    "from bokeh.layouts import gridplot\n",
    "\n",
    "# Import the GravyFlow module.\n",
    "import gravyflow as gf"
   ]
  },
  {
   "cell_type": "markdown",
   "metadata": {},
   "source": [
    "As usual, we will also set up our environment:\n",
    "\n",
    "**NOTE**: GravyFlow utilizes cuPhenom to generate IMRPhenomD waveforms on the GPU. It's important to note that cuPhenom will attempt to run on the same GPU as GravyFlow. However, cuPhenom does not use memory allocated for TensorFlow by the `gf.Env` function. Therefore, ensure that there is extra GPU memory available if you intend to generate IMRPhenomD waveforms with GravyFlow. This precaution helps in avoiding memory allocation issues and ensures smooth operation."
   ]
  },
  {
   "cell_type": "code",
   "execution_count": 2,
   "metadata": {},
   "outputs": [
    {
     "name": "stderr",
     "output_type": "stream",
     "text": [
      "INFO:root:TensorFlow version: 2.15.0, CUDA version: 12.2\n"
     ]
    },
    {
     "ename": "KeyboardInterrupt",
     "evalue": "",
     "output_type": "error",
     "traceback": [
      "\u001b[0;31m---------------------------------------------------------------------------\u001b[0m",
      "\u001b[0;31mKeyboardInterrupt\u001b[0m                         Traceback (most recent call last)",
      "Cell \u001b[0;32mIn[2], line 2\u001b[0m\n\u001b[1;32m      1\u001b[0m \u001b[39m# Set up the environment using gf.env() and return a tf.distribute.Strategy object.\u001b[39;00m\n\u001b[0;32m----> 2\u001b[0m env : tf\u001b[39m.\u001b[39mdistribute\u001b[39m.\u001b[39mStrategy \u001b[39m=\u001b[39m gf\u001b[39m.\u001b[39;49menv()\n",
      "File \u001b[0;32m~/gravyflow/gravyflow/src/utils/gpu.py:259\u001b[0m, in \u001b[0;36menv\u001b[0;34m(min_gpu_memory_mb, max_gpu_utilization_percentage, num_gpus_to_request, memory_to_allocate_tf, gpus)\u001b[0m\n\u001b[1;32m    251\u001b[0m \u001b[39melif\u001b[39;00m gpus \u001b[39mis\u001b[39;00m \u001b[39mNone\u001b[39;00m:\n\u001b[1;32m    252\u001b[0m     \u001b[39m# Setup CUDA:\u001b[39;00m\n\u001b[1;32m    253\u001b[0m     gpus \u001b[39m=\u001b[39m find_available_GPUs(\n\u001b[1;32m    254\u001b[0m         min_memory_MB\u001b[39m=\u001b[39mmin_gpu_memory_mb, \n\u001b[1;32m    255\u001b[0m         max_utilization_percentage\u001b[39m=\u001b[39mmax_gpu_utilization_percentage,\n\u001b[1;32m    256\u001b[0m         max_needed\u001b[39m=\u001b[39mnum_gpus_to_request\n\u001b[1;32m    257\u001b[0m     )\n\u001b[0;32m--> 259\u001b[0m strategy \u001b[39m=\u001b[39m setup_cuda(\n\u001b[1;32m    260\u001b[0m     gpus, \n\u001b[1;32m    261\u001b[0m     max_memory_limit\u001b[39m=\u001b[39;49mmemory_to_allocate_tf, \n\u001b[1;32m    262\u001b[0m     logging_level\u001b[39m=\u001b[39;49mlogging\u001b[39m.\u001b[39;49mWARNING\n\u001b[1;32m    263\u001b[0m )\n\u001b[1;32m    265\u001b[0m \u001b[39mreturn\u001b[39;00m strategy\u001b[39m.\u001b[39mscope()\n",
      "File \u001b[0;32m~/gravyflow/gravyflow/src/utils/gpu.py:65\u001b[0m, in \u001b[0;36msetup_cuda\u001b[0;34m(device_num, max_memory_limit, logging_level)\u001b[0m\n\u001b[1;32m     59\u001b[0m     logging\u001b[39m.\u001b[39minfo(\u001b[39m\"\u001b[39m\u001b[39mRunning in CPU mode...\u001b[39m\u001b[39m\"\u001b[39m)\n\u001b[1;32m     61\u001b[0m \u001b[39m# Step 1: Set the mixed precision policy\u001b[39;00m\n\u001b[1;32m     62\u001b[0m \u001b[39m#tf.keras.mixed_precision.set_global_policy('mixed_float16')\u001b[39;00m\n\u001b[1;32m     63\u001b[0m \n\u001b[1;32m     64\u001b[0m \u001b[39m# List all the physical GPUs.\u001b[39;00m\n\u001b[0;32m---> 65\u001b[0m gpus \u001b[39m=\u001b[39m tf\u001b[39m.\u001b[39;49mconfig\u001b[39m.\u001b[39;49mlist_physical_devices(\u001b[39m'\u001b[39;49m\u001b[39mGPU\u001b[39;49m\u001b[39m'\u001b[39;49m)\n\u001b[1;32m     67\u001b[0m \u001b[39m# If any GPU is present.\u001b[39;00m\n\u001b[1;32m     68\u001b[0m \u001b[39mif\u001b[39;00m gpus:\n\u001b[1;32m     69\u001b[0m     \u001b[39m# Currently, memory growth needs to be the same across GPUs.\u001b[39;00m\n\u001b[1;32m     70\u001b[0m     \u001b[39m# Enable memory growth for each GPU and set memory limit.\u001b[39;00m\n",
      "File \u001b[0;32m~/miniconda3/envs/gravyflow/lib/python3.10/site-packages/tensorflow/python/framework/config.py:458\u001b[0m, in \u001b[0;36mlist_physical_devices\u001b[0;34m(device_type)\u001b[0m\n\u001b[1;32m    424\u001b[0m \u001b[39m@tf_export\u001b[39m(\u001b[39m'\u001b[39m\u001b[39mconfig.list_physical_devices\u001b[39m\u001b[39m'\u001b[39m,\n\u001b[1;32m    425\u001b[0m            \u001b[39m'\u001b[39m\u001b[39mconfig.experimental.list_physical_devices\u001b[39m\u001b[39m'\u001b[39m)\n\u001b[1;32m    426\u001b[0m \u001b[39m@deprecation\u001b[39m\u001b[39m.\u001b[39mdeprecated_endpoints(\u001b[39m'\u001b[39m\u001b[39mconfig.experimental.list_physical_devices\u001b[39m\u001b[39m'\u001b[39m)\n\u001b[1;32m    427\u001b[0m \u001b[39mdef\u001b[39;00m \u001b[39mlist_physical_devices\u001b[39m(device_type\u001b[39m=\u001b[39m\u001b[39mNone\u001b[39;00m):\n\u001b[1;32m    428\u001b[0m \u001b[39m  \u001b[39m\u001b[39m\"\"\"Return a list of physical devices visible to the host runtime.\u001b[39;00m\n\u001b[1;32m    429\u001b[0m \n\u001b[1;32m    430\u001b[0m \u001b[39m  Physical devices are hardware devices present on the host machine. By default\u001b[39;00m\n\u001b[0;32m   (...)\u001b[0m\n\u001b[1;32m    456\u001b[0m \u001b[39m    List of discovered `tf.config.PhysicalDevice` objects\u001b[39;00m\n\u001b[1;32m    457\u001b[0m \u001b[39m  \"\"\"\u001b[39;00m\n\u001b[0;32m--> 458\u001b[0m   \u001b[39mreturn\u001b[39;00m context\u001b[39m.\u001b[39;49mcontext()\u001b[39m.\u001b[39;49mlist_physical_devices(device_type)\n",
      "File \u001b[0;32m~/miniconda3/envs/gravyflow/lib/python3.10/site-packages/tensorflow/python/eager/context.py:1609\u001b[0m, in \u001b[0;36mContext.list_physical_devices\u001b[0;34m(self, device_type)\u001b[0m\n\u001b[1;32m   1596\u001b[0m \u001b[39mdef\u001b[39;00m \u001b[39mlist_physical_devices\u001b[39m(\u001b[39mself\u001b[39m, device_type\u001b[39m=\u001b[39m\u001b[39mNone\u001b[39;00m):\n\u001b[1;32m   1597\u001b[0m \u001b[39m  \u001b[39m\u001b[39m\"\"\"List local devices visible to the system.\u001b[39;00m\n\u001b[1;32m   1598\u001b[0m \n\u001b[1;32m   1599\u001b[0m \u001b[39m  This API allows a client to query the devices before they have been\u001b[39;00m\n\u001b[0;32m   (...)\u001b[0m\n\u001b[1;32m   1607\u001b[0m \u001b[39m    List of PhysicalDevice objects.\u001b[39;00m\n\u001b[1;32m   1608\u001b[0m \u001b[39m  \"\"\"\u001b[39;00m\n\u001b[0;32m-> 1609\u001b[0m   \u001b[39mself\u001b[39;49m\u001b[39m.\u001b[39;49m_initialize_physical_devices()\n\u001b[1;32m   1611\u001b[0m   \u001b[39mif\u001b[39;00m device_type \u001b[39mis\u001b[39;00m \u001b[39mNone\u001b[39;00m:\n\u001b[1;32m   1612\u001b[0m     \u001b[39mreturn\u001b[39;00m \u001b[39mlist\u001b[39m(\u001b[39mself\u001b[39m\u001b[39m.\u001b[39m_physical_devices)\n",
      "File \u001b[0;32m~/miniconda3/envs/gravyflow/lib/python3.10/site-packages/tensorflow/python/eager/context.py:1564\u001b[0m, in \u001b[0;36mContext._initialize_physical_devices\u001b[0;34m(self, reinitialize)\u001b[0m\n\u001b[1;32m   1561\u001b[0m \u001b[39mif\u001b[39;00m \u001b[39mnot\u001b[39;00m reinitialize \u001b[39mand\u001b[39;00m \u001b[39mself\u001b[39m\u001b[39m.\u001b[39m_physical_devices \u001b[39mis\u001b[39;00m \u001b[39mnot\u001b[39;00m \u001b[39mNone\u001b[39;00m:\n\u001b[1;32m   1562\u001b[0m   \u001b[39mreturn\u001b[39;00m\n\u001b[0;32m-> 1564\u001b[0m devs \u001b[39m=\u001b[39m pywrap_tfe\u001b[39m.\u001b[39;49mTF_ListPhysicalDevices()\n\u001b[1;32m   1565\u001b[0m \u001b[39mself\u001b[39m\u001b[39m.\u001b[39m_physical_devices \u001b[39m=\u001b[39m [\n\u001b[1;32m   1566\u001b[0m     PhysicalDevice(name\u001b[39m=\u001b[39md\u001b[39m.\u001b[39mdecode(), device_type\u001b[39m=\u001b[39md\u001b[39m.\u001b[39mdecode()\u001b[39m.\u001b[39msplit(\u001b[39m\"\u001b[39m\u001b[39m:\u001b[39m\u001b[39m\"\u001b[39m)[\u001b[39m1\u001b[39m])\n\u001b[1;32m   1567\u001b[0m     \u001b[39mfor\u001b[39;00m d \u001b[39min\u001b[39;00m devs\n\u001b[1;32m   1568\u001b[0m ]\n\u001b[1;32m   1569\u001b[0m \u001b[39mself\u001b[39m\u001b[39m.\u001b[39m_physical_device_to_index \u001b[39m=\u001b[39m {\n\u001b[1;32m   1570\u001b[0m     p: i \u001b[39mfor\u001b[39;00m i, p \u001b[39min\u001b[39;00m \u001b[39menumerate\u001b[39m(\u001b[39mself\u001b[39m\u001b[39m.\u001b[39m_physical_devices)\n\u001b[1;32m   1571\u001b[0m }\n",
      "\u001b[0;31mKeyboardInterrupt\u001b[0m: "
     ]
    }
   ],
   "source": [
    "# Set up the environment using gf.env() and return a tf.distribute.Strategy object.\n",
    "env : tf.distribute.Strategy = gf.env()"
   ]
  },
  {
   "cell_type": "markdown",
   "metadata": {},
   "source": [
    "## Generating Our First Waveform on the GPU\n",
    "\n",
    "Currently, GravyFlow supports the generation of two waveform types: IMRPhenomD and White Noise Bursts (WNB).  We plan to expand this selection in the future. Both waveform types are generated on the GPU. IMRPhenomD generation utilizes the cuPhenom C library and operates using the CUDA library for GPU processing. On the other hand, WNB generation is integrated within GravyFlow and uses TensorFlow functions.\n",
    "\n",
    "It's important to note that cuPhenom is designed exclusively for GPU use and does not have CPU support. As such, attempts to run it on a CPU will fail. Additionally, cuPhenom has independent error-checking systems, which may raise errors or cause crashes outside of GravyFlow's control. These errors, often Out Of Memory (OOM) issues, will typically be indicated in the error message. Future enhancements are aimed at more robust integration of cuPhenom errors and improved memory management.\n",
    "\n",
    "Each waveform type has an associated generator class that inherits from a common parent: gf.WaveformGenerator. This parent has some attributes which are common to all waveform generators, but each waveform generator subclass has extra associated attributes dependent on the parameters of the waveform it is designed to generate. The following attributes are common to all waveform generators:\n",
    "\n",
    "- `scaling_method`: `Union[gf.ScalingMethod, None]` = `None`\n",
    "  > This parameter can accept a `gf.ScalingMethod` object, which can be used to scale this waveform when it is injected into obfuscating noise. This process will be discussed in more detail in a later notebook. When the default value, `None`, is used, no scaling will be applied.\n",
    "\n",
    "- `injection_chance`: `float` = `1.0`\n",
    "  > This parameter determines how likely it is for the waveform generator to return an injection vs a tensor of all zeros. This functionality is utilized when generating a dataset which contains a mix of examples with and without injected signals. We will also discuss the use of this parameter in more detail in future notebooks. The default value is 1.0, this will cause the iterator to generate injections on every iteration.\n",
    "\n",
    "- `front_padding_duration_seconds`: `float` = `0.3`\n",
    "  > GravyFlow Waveform generators output tensors which are the length of the onsource segment duration so that they can be easily summed with obfuscating noise. They will randomize the position of the waveform within that segment between front_padding_duration_seconds and back_padding_duration_seconds. In GravyFlow, injection padding is performed from the last sample of the generated waveform. For example, if front_padding_duration_seconds was 0.3 s, as is default, the last sample of the waveform cannot be less than 0.3 s from the start of the onsource segment. If the waveform is longer than the onsource duration, then the start of the waveform will be cropped and will not appear in the output tensor. If back_padding_duration_seconds was 0.3 s, then the last sample of the generated waveform cannot be within 0.3 s of the end of the onsource segment. If you wish to output waveforms in a fixed position with no random start time variance, set front_padding_duration_seconds = back_padding_duration_seconds = your desired last sample time in seconds. By default, front_padding_duration_seconds is 0.3 s.\n",
    "\n",
    "- `back_padding_duration_seconds`: `float` = `0.0`\n",
    "  > This parameter determines the closest the last sample of the generated waveform can be from the end of the onsource period. See the description of front_padding_duration_seconds for more clarification. The default value is 0.0 s, meaning that waveforms can generate up to the end of the onsource window.\n",
    "\n",
    "- `scale_factor`: `Union[float, None]` = `None`\n",
    "  > As has been mentioned previously, it is sometimes desirable to scale data to values close to one for easier consumption by artificial neural networks. Rather than using a form of normalization, GravyFlow introduces a scale factor which can be used to scale all waveforms by an identical amount. If None, which is the default, no scaling is performed.\n",
    "\n",
    "- `network`: `Union[List[IFO], gf.Network, Path, None]` = `None`\n",
    "  > We can also set the interferometer network configuration we wish to use to project this detector. This is not used by the waveform generator itself, but is used when this is used as part of a composition into a gf.Dataset, which will be described in later datasets. The default value is one.\n",
    "\n",
    "Let's begin by generating a single IMRPhenomD waveform:"
   ]
  },
  {
   "cell_type": "markdown",
   "metadata": {},
   "source": [
    "## Generating an IMRPhenomD Waveform\n",
    "\n",
    "We can create an IMRPhenomD generator by initializing an instance of the `gf.cuPhenomDGenerator` class. This class includes all the parameters of the `gf.WaveformGenerator` class, listed above, along with these extra parameters which determine the properties of the IMRPhenomD waveform:\n",
    "\n",
    "- `mass_1_msun` : `Union[float, gf.Distribution]` = `30.0`\n",
    "  > Mass of companion one, in solar masses. The default value is 30.0 solar masses.\n",
    "\n",
    "- `mass_2_msun` : `Union[float, gf.Distribution]` = `30.0`\n",
    "  > Mass of companion two, in solar masses. The default value is 30.0 solar masses.\n",
    "\n",
    "- `inclination_radians` : `Union[float, gf.Distribution]` = `0.0`\n",
    "  > Inclination of the source in radians. The default is 0.0 radians.\n",
    "\n",
    "- `distance_mpc` : `Union[float, gf.Distribution]` = `50.0`\n",
    "  > Distance of the source in megaparsecs. The default value is 50.0 Mpc.\n",
    "\n",
    "- `reference_orbital_phase_in` : `Union[float, gf.Distribution]` = `0.0`\n",
    "  > Reference orbital phase in radians. The default is 0.0 radians.\n",
    "\n",
    "- `ascending_node_longitude` : `Union[float, gf.Distribution]` = `0.0`\n",
    "  > Longitude of ascending nodes. Degenerate with the polarization angle.\n",
    "\n",
    "- `eccentricity` : `Union[float, gf.Distribution]` = `0.0`\n",
    "  > Eccentricity at the reference epoch.\n",
    "\n",
    "- `mean_periastron_anomaly` : `Union[float, gf.Distribution]` = `0.0`\n",
    "  > Mean anomaly of periastron.\n",
    "\n",
    "- `spin_1_in` : `Union[Tuple[float], gf.Distribution]` = `(0.0, 0.0, 0.0)`\n",
    "  > Dimensionless spin components of the first companion.\n",
    "\n",
    "- `spin_2_in` : `Union[Tuple[float], gf.Distribution]` = `(0.0, 0.0, 0.0)`\n",
    "  > Dimensionless spin components of the second companion.\n",
    "\n",
    "Let us create a PhenomD generator."
   ]
  },
  {
   "cell_type": "code",
   "execution_count": null,
   "metadata": {},
   "outputs": [],
   "source": [
    "# Initialize the PhenomD waveform generator:\n",
    "# This generator specifically creates IMRPhenomD waveforms based on the given parameters.\n",
    "phenom_d_generator: gf.WaveformGenerator = gf.cuPhenomDGenerator(\n",
    "    mass_1_msun=50.0,          # Set the mass of the first companion to 50 solar masses.\n",
    "    mass_2_msun=50.0,          # Set the mass of the second companion to 50 solar masses.\n",
    "    inclination_radians=0.0    # Set the inclination of the source to 0 radians.\n",
    ")"
   ]
  },
  {
   "cell_type": "markdown",
   "metadata": {},
   "source": [
    "We can use the previously created waveform generator to compose a generic injection generator, which is an instance of `gf.InjectionGenerator`. The rationale behind this structure will become clearer as you further explore and work with the library.\n",
    "\n",
    "Here are the parameters of `gf.InjectionGenerator`:\n",
    "\n",
    "- `waveform_generators` : `Union[List[gf.WaveformGenerator], Dict[str, gf.WaveformGenerator]]`, Required\n",
    "  > A list or dictionary of `gf.WaveformGenerator` instances to use for generating the injection. This is a required input, ensuring the injection generator has the necessary waveform data.\n",
    "\n",
    "- `parameters_to_return` : `Union[List[WaveformParameters], None]` = `None`\n",
    "  > A list of parameters to output from the injection generator. The default is None, meaning no extra waveform parameters will be returned unless specified.\n",
    "\n",
    "- `seed` : `int` = `None`\n",
    "  > The seed for the random number generators used in various aspects of the injection process, such as positioning the injection, generating injection parameters, and adding random elements to some injections like White Noise Bursts (WNBs). If set to None, the seed from `gf.Defaults` will be used.\n",
    "\n",
    "Let's proceed to create an injection generator using only the `gf.cuPhenomDWaveformGenerator`:"
   ]
  },
  {
   "cell_type": "code",
   "execution_count": null,
   "metadata": {},
   "outputs": [],
   "source": [
    "# Create an instance of the InjectionGenerator using the PhenomD waveform generator.\n",
    "# This setup will enable the generation of injections based on the IMRPhenomD waveforms.\n",
    "phenom_d_injection_generator: gf.InjectionGenerator = gf.InjectionGenerator(phenom_d_generator)"
   ]
  },
  {
   "cell_type": "markdown",
   "metadata": {},
   "source": [
    "We can now utilize the `phenom_d_injection_generator` to rapidly generate IMRPhenomD waveforms on the GPU:"
   ]
  },
  {
   "cell_type": "code",
   "execution_count": null,
   "metadata": {},
   "outputs": [],
   "source": [
    "# Use the TensorFlow environment 'env' created earlier with gf.env()\n",
    "with env:\n",
    "    # Generate a batch of IMRPhenomD waveforms using the phenom_d_injection_generator.\n",
    "    # The num_examples_per_batch is set to 1 to limit the batch size to a single example.\n",
    "    phenom_d_injection, _, _ = next(phenom_d_injection_generator(num_examples_per_batch=1))\n",
    "\n",
    "    # The second and third returned variables will be discussed later in the notebook."
   ]
  },
  {
   "cell_type": "markdown",
   "metadata": {},
   "source": [
    "We can visualize the generated waveforms using the same plotting helper functions introduced in Notebook 2. It's important to note that the output of the injection generator matches the size of our onsource duration, plus two times our crop duration. This sizing ensures that the generated waveforms can be easily added to any background noise before undergoing the whitening process."
   ]
  },
  {
   "cell_type": "code",
   "execution_count": null,
   "metadata": {},
   "outputs": [],
   "source": [
    "# Generate strain plots for the Phenom D injection waveforms.\n",
    "# The first index [0] selects the injection, the second index [0] selects the batch,\n",
    "# and the third index [0] or [1] selects the polarization (plus or cross).\n",
    "phenom_d_strain_plot = gf.generate_strain_plot(\n",
    "    {\n",
    "        \"Plus Polarisation\": phenom_d_injection[0][0][0],   # Plus polarization component of the waveform.\n",
    "        \"Cross Polarisation\": phenom_d_injection[0][0][1]  # Cross polarization component of the waveform.\n",
    "    },\n",
    "    title=\"Phenom D Injection\"\n",
    ")\n",
    "\n",
    "# Arrange the plot in a grid layout and display it in the notebook.\n",
    "output_notebook()\n",
    "show(phenom_d_strain_plot)"
   ]
  },
  {
   "cell_type": "markdown",
   "metadata": {},
   "source": [
    "## Generating a White Noise Burst (WNB) on the GPU\n",
    "\n",
    "In addition to generating IMRPhenomD waveforms, we can also create White Noise Bursts (WNB) on the GPU using the `gf.WNBGenerator`. This generator shares the parameters of the `gf.WaveformGenerator` class and includes additional parameters specific to WNBs:\n",
    "\n",
    "- `duration_seconds` : `Union[float, gf.Distribution]` = `0.5`\n",
    "  > Specifies the duration of the white noise burst in seconds. The default is set to 0.5 seconds, defining how long the burst will last.\n",
    "\n",
    "- `min_frequency_hertz` : `Union[float, gf.Distribution]` = `16.0`\n",
    "  > Determines the minimum frequency component to include in the WNB. The default setting is 16.0 Hertz, establishing the lower bound of the frequency range.\n",
    "\n",
    "- `max_frequency_hertz` : `Union[float, gf.Distribution]` = `1024.0`\n",
    "  > Sets the maximum frequency component for the WNB. The default is 1024.0 Hertz, indicating the upper limit of the frequency spectrum covered by the burst.\n",
    "\n",
    "Let's proceed to create the `gf.WaveformGenerator` for generating a WNB:"
   ]
  },
  {
   "cell_type": "code",
   "execution_count": null,
   "metadata": {},
   "outputs": [],
   "source": [
    "# Create a WaveformGenerator to generate White Noise Bursts (WNBs):\n",
    "wnb_generator: gf.WaveformGenerator = gf.WNBGenerator(\n",
    "    duration_seconds=0.7,         # Set the duration of the WNB to 0.7 seconds.\n",
    "    min_frequency_hertz=16.0,     # Set the minimum frequency of the WNB to 16.0 Hertz.\n",
    "    max_frequency_hertz=1024.0    # Set the maximum frequency of the WNB to 1024.0 Hertz.\n",
    ")\n",
    "\n",
    "# Create an InjectionGenerator using the WNB waveform generator:\n",
    "wnb_injection_generator: gf.InjectionGenerator = gf.InjectionGenerator(wnb_generator)\n",
    "\n",
    "# Use the TensorFlow environment 'env' created earlier with gf.env()\n",
    "with env:\n",
    "    # Generate a batch of injections with a single WNB injection:\n",
    "    # The num_examples_per_batch is set to 1 to limit the batch size to one example.\n",
    "    wnb_injection, _, _ = next(wnb_injection_generator(num_examples_per_batch=1))"
   ]
  },
  {
   "cell_type": "markdown",
   "metadata": {},
   "source": [
    "Now that we have generated a White Noise Burst (WNB) using the `wnb_injection_generator`, let's proceed to visualize it. We'll use the same plotting functions as before to create a strain plot of the WNB:"
   ]
  },
  {
   "cell_type": "code",
   "execution_count": null,
   "metadata": {},
   "outputs": [],
   "source": [
    "# Generate strain plots for the WNB injection waveforms.\n",
    "# The indexing [0][0][0] and [0][0][1] access the plus and cross polarization components, respectively.\n",
    "wnb_strain_plot = gf.generate_strain_plot(\n",
    "    {\n",
    "        \"Plus Polarisation\": wnb_injection[0][0][0],   # Plus polarization component of the WNB.\n",
    "        \"Cross Polarisation\": wnb_injection[0][0][1]  # Cross polarization component of the WNB.\n",
    "    },\n",
    "    title=\"WNB Injection\"\n",
    ")\n",
    "\n",
    "# Arrange the plot in a grid layout and display it in the notebook.\n",
    "output_notebook()\n",
    "show(wnb_strain_plot)"
   ]
  },
  {
   "cell_type": "markdown",
   "metadata": {},
   "source": [
    "## Distributing Parameters\n",
    "\n",
    "GravyFlow provides the `gf.Distribution` class to facilitate random variation of injection parameters for each example produced. This is especially useful when generating datasets to train gravitational wave models. The `gf.Distribution` class is preferred over distribution objects from libraries like SciPy and TensorFlow because it supports discrete and categorical distributions of arbitrary types, which are beneficial for hyperparameter optimization.\n",
    "\n",
    "The supported distribution types include: `gf.DistributionType.CONSTANT`, `gf.DistributionType.UNIFORM`, `gf.DistributionType.NORMAL`, `gf.DistributionType.CHOICE`, `gf.DistributionType.LOG`, and `gf.DistributionType.POW_TWO`.\n",
    "\n",
    "The arguments for `gf.Distribution` are as follows:\n",
    "\n",
    "- `value` : `Union[int, float]` = `None`:\n",
    "  > The specific value for the constant distribution. Only used when the distribution type is set to `gf.DistributionType.CONSTANT`.\n",
    "\n",
    "- `dtype` : `Type` = `float`:\n",
    "  > Data type of the distribution's output. Commonly set to float for waveform parameters.\n",
    "\n",
    "- `min_` : `Union[int, float]` = `None`:\n",
    "  > The minimum value for the distribution.\n",
    "\n",
    "- `max_` : `Union[int, float]` = `None`:\n",
    "  > The maximum value for the distribution.\n",
    "\n",
    "- `mean` : `float` = `None`:\n",
    "  > The mean (average) value for the distribution. Only used in the `gf.DistributionType.NORMAL` distribution type.\n",
    "\n",
    "- `std` : `float` = `None`:\n",
    "  > The standard deviation for the distribution, defining the spread of values. Only used in the `gf.DistributionType.NORMAL` distribution type.\n",
    "\n",
    "- `possible_values` : `List` = `None`:\n",
    "  > A list of possible values for the distribution. Essential for the `gf.DistributionType.CHOICE` distribution type, allowing specific values to be chosen randomly.\n",
    "\n",
    "- `type_` : `gf.DistributionType` = `gf.DistributionType.CONSTANT`\n",
    "  > The type of distribution to be used. This determines how the values will be generated and varied.\n",
    "\n",
    "- `seed` : `int` = `None`:\n",
    "  > Seed for the random number generator. Ensures reproducibility when generating random values. If `None`, the seed value from gf.Defaults will be used. Note that the seed will be reseeded using the parent object seed when `gf.Distributions` are used as part of an injection generator object.\n",
    "\n",
    "In the next cell, we will demonstrate the use of `gf.Distributions`:"
   ]
  },
  {
   "cell_type": "code",
   "execution_count": null,
   "metadata": {},
   "outputs": [],
   "source": [
    "# Create examples of different types of distributions using gf.Distribution\n",
    "distribution_examples: Dict = {\n",
    "    # Constant distribution with a fixed value\n",
    "    \"Constant\": gf.Distribution(value=10, type_=gf.DistributionType.CONSTANT),\n",
    "\n",
    "    # Uniform distribution with minimum and maximum values\n",
    "    \"Uniform\": gf.Distribution(min_=5.0, max_=95.0, type_=gf.DistributionType.UNIFORM),\n",
    "\n",
    "    # Normal distribution with specified mean and standard deviation\n",
    "    \"Normal\": gf.Distribution(mean=0.0, std=3.0, type_=gf.DistributionType.NORMAL),\n",
    "\n",
    "    # Choice distribution selecting randomly from a list of possible values\n",
    "    \"Choice\": gf.Distribution(possible_values=[\"green\", \"red\", \"blue\"], type_=gf.DistributionType.CHOICE),\n",
    "\n",
    "    # Logarithmic distribution between specified minimum and maximum values\n",
    "    \"Log\": gf.Distribution(min_=1.0, max_=10.0, type_=gf.DistributionType.LOG),\n",
    "\n",
    "    # Power-of-two distribution within a range, producing powers of two\n",
    "    \"Powers of two\": gf.Distribution(min_=2, max_=1024, type_=gf.DistributionType.POW_TWO, dtype=int)\n",
    "}"
   ]
  },
  {
   "cell_type": "markdown",
   "metadata": {},
   "source": [
    "With the distribution examples set up in the previous step, we can now proceed to sample from these distributions to produce random variables. This process demonstrates how `gf.Distribution` can be used to generate a variety of random values based on the specified distribution types."
   ]
  },
  {
   "cell_type": "code",
   "execution_count": null,
   "metadata": {},
   "outputs": [],
   "source": [
    "# Iterate over each distribution type and sample values from them\n",
    "for name, distribution in distribution_examples.items():\n",
    "    # Sample 5 values from each distribution and print them\n",
    "    print(f\"{name} distribution samples: {distribution.sample(5)}\")"
   ]
  },
  {
   "cell_type": "markdown",
   "metadata": {},
   "source": [
    "## Using Distributions to Generate Waveforms\n",
    "\n",
    "Having demonstrated how to sample from various distributions, we will now apply these concepts to generate gravitational waveforms with randomized parameters. This approach is particularly useful for creating diverse datasets that reflect a wide range of possible astrophysical scenarios.\n",
    "\n",
    "We will create distributions for key waveform parameters: the masses of the two objects in a binary system (`mass_1_msun` and `mass_2_msun`), and the inclination of the source (`inclination_radians`). These distributions will be used to randomize the parameters of each generated waveform, ensuring variability in our simulations.\n",
    "\n",
    "The distributions for each parameter are defined as uniform distributions within specified ranges. This uniformity ensures that all values within the range have an equal probability of being selected. Let's proceed to define these distributions and use them to initialize a `gf.cuPhenomDGenerator`, which will generate IMRPhenomD waveforms with these randomized parameters:\n"
   ]
  },
  {
   "cell_type": "code",
   "execution_count": null,
   "metadata": {},
   "outputs": [],
   "source": [
    "# Define a uniform distribution for the mass of the first object in solar masses.\n",
    "mass_1_distribution_msun: gf.Distribution = gf.Distribution(\n",
    "    min_=10.0, \n",
    "    max_=60.0, \n",
    "    type_=gf.DistributionType.UNIFORM\n",
    ")\n",
    "\n",
    "# Define a uniform distribution for the mass of the second object in solar masses.\n",
    "mass_2_distribution_msun: gf.Distribution = gf.Distribution(\n",
    "    min_=10.0, \n",
    "    max_=60.0, \n",
    "    type_=gf.DistributionType.UNIFORM\n",
    ")\n",
    "\n",
    "# Define a uniform distribution for the inclination of the binary system in radians.\n",
    "inclination_distribution_radians: gf.Distribution = gf.Distribution(\n",
    "    min_=0.0, \n",
    "    max_=np.pi, \n",
    "    type_=gf.DistributionType.UNIFORM\n",
    ")\n",
    "\n",
    "# Initialize a PhenomD waveform generator with the defined distributions.\n",
    "# This generator will produce waveforms with randomly varied masses and inclination angles.\n",
    "phenom_d_distribution_generator: gf.WaveformGenerator = gf.cuPhenomDGenerator(\n",
    "    mass_1_msun=mass_1_distribution_msun,\n",
    "    mass_2_msun=mass_2_distribution_msun,\n",
    "    inclination_radians=inclination_distribution_radians\n",
    ")"
   ]
  },
  {
   "cell_type": "markdown",
   "metadata": {},
   "source": [
    "We now utilize the `phenom_d_distribution_generator` to produce waveform injections with varied parameters. By setting up an `gf.InjectionGenerator`, we can create injections where key waveform parameters like masses and inclination angles are randomized. We will also retrieve specific waveform parameters alongside each injection, allowing us to analyze the effect of these variable parameters on the waveforms."
   ]
  },
  {
   "cell_type": "code",
   "execution_count": null,
   "metadata": {},
   "outputs": [],
   "source": [
    "# Initialize an InjectionGenerator with the PhenomD distribution generator.\n",
    "# This generator will create waveform injections and will return the specified parameters.\n",
    "phenom_d_distribution_injection_generator: gf.InjectionGenerator = gf.InjectionGenerator(\n",
    "    phenom_d_distribution_generator,\n",
    "    parameters_to_return=[\n",
    "        gf.WaveformParameters.MASS_1_MSUN, \n",
    "        gf.WaveformParameters.MASS_2_MSUN,\n",
    "        gf.WaveformParameters.INCLINATION_RADIANS\n",
    "    ]\n",
    ")\n",
    "\n",
    "# Use the TensorFlow environment 'env' created earlier with gf.env()\n",
    "with env:\n",
    "    # Generate a batch of waveform injections with their parameters.\n",
    "    # num_examples_per_batch is set to 4 to produce four examples.\n",
    "    phenom_d_distributed_injections, _, phenom_d_distributed_parameters = next(\n",
    "        phenom_d_distribution_injection_generator(num_examples_per_batch=4)\n",
    "    )\n"
   ]
  },
  {
   "cell_type": "markdown",
   "metadata": {},
   "source": [
    "Next, we extract key parameters such as the masses of the binary companions and their orbital inclination from our generated PhenomD injections. This extraction allows us to observe the impact of these parameters on the waveform characteristics. We will create strain plots for each injection, highlighting the variations in waveform features due to the randomized parameters."
   ]
  },
  {
   "cell_type": "code",
   "execution_count": null,
   "metadata": {},
   "outputs": [],
   "source": [
    "# Extract the parameters from the distributed PhenomD injections.\n",
    "mass_1_parameters: tf.Tensor = phenom_d_distributed_parameters[gf.WaveformParameters.MASS_1_MSUN]\n",
    "mass_2_parameters: tf.Tensor = phenom_d_distributed_parameters[gf.WaveformParameters.MASS_2_MSUN]\n",
    "inclination_parameters: tf.Tensor = phenom_d_distributed_parameters[gf.WaveformParameters.INCLINATION_RADIANS]\n",
    "\n",
    "# Initialize an empty layout for the strain plots.\n",
    "distributed_phenom_layout: List = []\n",
    "\n",
    "# Iterate over the injections and their corresponding parameters.\n",
    "for injection, mass_1, mass_2, inclination in zip(\n",
    "        phenom_d_distributed_injections[0], \n",
    "        mass_1_parameters[0], \n",
    "        mass_2_parameters[0], \n",
    "        inclination_parameters[0]\n",
    "    ):\n",
    "    # Create strain plots for each injection with titles displaying the parameter values.\n",
    "    distributed_phenom_layout.append([\n",
    "        gf.generate_strain_plot(\n",
    "            {\n",
    "                \"Plus Polarisation\": injection[0],\n",
    "                \"Cross Polarisation\": injection[1]\n",
    "            },\n",
    "            height=400,\n",
    "            title=(\n",
    "                \"Phenom D Injection: \\n\"\n",
    "                f\"Companion 1 Mass: {mass_1:.2f} solar masses.\\n\"\n",
    "                f\"Companion 2 Mass: {mass_2:.2f} solar masses.\\n\"\n",
    "                f\"Inclination: {inclination:.2f} Radians.\"\n",
    "            )\n",
    "        )\n",
    "    ])\n",
    "\n",
    "# Arrange the plots in a grid layout and display them in the notebook.\n",
    "grid = gridplot(distributed_phenom_layout)\n",
    "output_notebook()\n",
    "show(grid)"
   ]
  },
  {
   "cell_type": "markdown",
   "metadata": {},
   "source": [
    "## Generating Multiple Injections Simultaneously\n",
    "\n",
    "GravyFlow enables the simultaneous generation of multiple types of injections using a single injection generator. This functionality is particularly beneficial when creating training datasets that require a mix of different injection types, adding variety and complexity to the data.\n",
    "\n",
    "Let's begin by defining a randomly distributed White Noise Burst (WNB) waveform, similar to how we previously set up the PhenomD waveforms. By incorporating randomness in the waveform parameters, we can simulate a more realistic and varied set of gravitational wave signals."
   ]
  },
  {
   "cell_type": "code",
   "execution_count": null,
   "metadata": {},
   "outputs": [],
   "source": [
    "# Define a uniform distribution for the duration of the WNB in seconds.\n",
    "duration_distribution_seconds: gf.Distribution = gf.Distribution(\n",
    "    min_=0.1, \n",
    "    max_=0.9, \n",
    "    type_=gf.DistributionType.UNIFORM\n",
    ")\n",
    "\n",
    "# Define a uniform distribution for the minimum frequency of the WNB in Hertz.\n",
    "min_frequency_distribution_hertz: gf.Distribution = gf.Distribution(\n",
    "    min_=20.0, \n",
    "    max_=512.0, \n",
    "    type_=gf.DistributionType.UNIFORM\n",
    ")\n",
    "\n",
    "# Define a uniform distribution for the maximum frequency of the WNB in Hertz.\n",
    "max_frequency_distribution_hertz: gf.Distribution = gf.Distribution(\n",
    "    min_=20.0, \n",
    "    max_=512.0, \n",
    "    type_=gf.DistributionType.UNIFORM\n",
    ")\n",
    "\n",
    "# Initialize a WNB waveform generator using the defined distributions.\n",
    "# This generator will create WNB waveforms with randomized duration and frequency parameters.\n",
    "wnb_distribution_generator: gf.WaveformGenerator = gf.WNBGenerator(\n",
    "    duration_seconds=duration_distribution_seconds,\n",
    "    min_frequency_hertz=min_frequency_distribution_hertz,\n",
    "    max_frequency_hertz=max_frequency_distribution_hertz\n",
    ")"
   ]
  },
  {
   "cell_type": "markdown",
   "metadata": {},
   "source": [
    "To enhance the diversity of our generated dataset, we will now combine both the IMRPhenomD and White Noise Burst (WNB) waveform generators into a single `gf.InjectionGenerator`. This approach allows us to simultaneously generate a variety of waveform injections, each with its distinct characteristics. By doing so, we can create a more comprehensive and varied dataset, suitable for training robust gravitational wave detection models.\n",
    "\n",
    "We'll specify a list of parameters to be returned with each injection, encompassing key attributes from both PhenomD and WNB waveforms. For consistency, parameters for each waveform will contain entries for each entered type. If they are not used by that particular waveform, they will be set to zero. Let's proceed to set up this multi-type injection generator:\n"
   ]
  },
  {
   "cell_type": "code",
   "execution_count": null,
   "metadata": {},
   "outputs": [],
   "source": [
    "# Initialize an InjectionGenerator that combines both PhenomD and WNB generators.\n",
    "# This allows for the generation of a mix of multiple waveform injections.\n",
    "multi_injection_generator: gf.InjectionGenerator = gf.InjectionGenerator(\n",
    "    [phenom_d_distribution_generator, wnb_distribution_generator],  # List of waveform generators.\n",
    "    parameters_to_return=[\n",
    "        gf.WaveformParameters.MASS_1_MSUN,           # Mass of the first object in solar masses.\n",
    "        gf.WaveformParameters.MASS_2_MSUN,           # Mass of the second object in solar masses.\n",
    "        gf.WaveformParameters.INCLINATION_RADIANS,   # Inclination of the binary system.\n",
    "        gf.WaveformParameters.DURATION_SECONDS,      # Duration of the WNB in seconds.\n",
    "        gf.WaveformParameters.MIN_FREQUENCY_HERTZ,   # Minimum frequency of the WNB in Hertz.\n",
    "        gf.WaveformParameters.MAX_FREQUENCY_HERTZ    # Maximum frequency of the WNB in Hertz.\n",
    "    ]\n",
    ")\n"
   ]
  },
  {
   "cell_type": "markdown",
   "metadata": {},
   "source": [
    "We can then generate multiple injections at each iteration:"
   ]
  },
  {
   "cell_type": "code",
   "execution_count": null,
   "metadata": {},
   "outputs": [],
   "source": [
    "# Use the TensorFlow environment 'env' created earlier with gf.env()\n",
    "with env:\n",
    "    # Generate a batch of multiple types of injections using the multi_injection_generator.\n",
    "    # num_examples_per_batch is set to 4 to produce four examples in the batch.\n",
    "    multi_injections, _, multi_parameters = next(multi_injection_generator(num_examples_per_batch=4))"
   ]
  },
  {
   "cell_type": "markdown",
   "metadata": {},
   "source": [
    "We can plot these waveforms, and their associated parameters, side by side:"
   ]
  },
  {
   "cell_type": "code",
   "execution_count": null,
   "metadata": {},
   "outputs": [],
   "source": [
    "# Extract the parameters from the multi-injections.\n",
    "mass_1_parameters: tf.Tensor = multi_parameters[gf.WaveformParameters.MASS_1_MSUN][0]\n",
    "mass_2_parameters: tf.Tensor = multi_parameters[gf.WaveformParameters.MASS_2_MSUN][0]\n",
    "inclination_parameters: tf.Tensor = multi_parameters[gf.WaveformParameters.INCLINATION_RADIANS][0]\n",
    "duration_parameters: tf.Tensor = multi_parameters[gf.WaveformParameters.DURATION_SECONDS][1]\n",
    "min_frequency_parameters: tf.Tensor = multi_parameters[gf.WaveformParameters.MIN_FREQUENCY_HERTZ][1]\n",
    "max_frequency_parameters: tf.Tensor = multi_parameters[gf.WaveformParameters.MAX_FREQUENCY_HERTZ][1]\n",
    "\n",
    "# Initialize an empty layout for the strain plots.\n",
    "distributed_phenom_layout: List = []\n",
    "\n",
    "# Iterate over the multi-injections and their corresponding parameters.\n",
    "for phenom_d_injections, wnb_injections, mass_1, mass_2, inclination, duration, min_freq, max_freq in zip(\n",
    "        multi_injections[0], \n",
    "        multi_injections[1],\n",
    "        mass_1_parameters, \n",
    "        mass_2_parameters, \n",
    "        inclination_parameters,\n",
    "        duration_parameters,\n",
    "        min_frequency_parameters,\n",
    "        max_frequency_parameters\n",
    "    ):\n",
    "    # Create strain plots for each Phenom D and WNB injection with titles displaying the parameter values.\n",
    "    distributed_phenom_layout.append([\n",
    "        gf.generate_strain_plot(\n",
    "            {\n",
    "                \"Plus Polarisation\": phenom_d_injections[0],\n",
    "                \"Cross Polarisation\": phenom_d_injections[1]\n",
    "            },\n",
    "            height=400,\n",
    "            width=500,\n",
    "            title=(\n",
    "                \"Phenom D Injection:\\n\"\n",
    "                f\"Companion 1 Mass: {mass_1:.2f} solar masses.\\n\"\n",
    "                f\"Companion 2 Mass: {mass_2:.2f} solar masses.\\n\"\n",
    "                f\"Inclination: {inclination:.2f} Radians.\"\n",
    "            )\n",
    "        ),\n",
    "        gf.generate_strain_plot(\n",
    "            {\n",
    "                \"Plus Polarisation\": wnb_injections[0],\n",
    "                \"Cross Polarisation\": wnb_injections[1]\n",
    "            },\n",
    "            height=400,\n",
    "            width=500,\n",
    "            title=(\n",
    "                \"WNB Injection:\\n\"\n",
    "                f\"Duration: {duration:.2f} s.\\n\"\n",
    "                f\"Minimum Frequency: {min_freq:.2f} Hz.\\n\"\n",
    "                f\"Maximum Frequency: {max_freq:.2f} Hz.\"\n",
    "            )\n",
    "        )\n",
    "    ])\n",
    "\n",
    "# Arrange the plots in a grid layout and display them in the notebook.\n",
    "grid = gridplot(distributed_phenom_layout)\n",
    "output_notebook()\n",
    "show(grid)"
   ]
  },
  {
   "cell_type": "markdown",
   "metadata": {},
   "source": [
    "## Loading Injections from Config JSON\n",
    "\n",
    "Rather than inputing arguments defined in Python, we can also load injection configurations from a JSON file."
   ]
  },
  {
   "cell_type": "code",
   "execution_count": null,
   "metadata": {},
   "outputs": [],
   "source": [
    "injection_config_path : Path = Path(\"./example_configs/phenom_d_parameters.json\")\n",
    "\n",
    "# Load injection config:\n",
    "loaded_phenom_d_generator : gf.cuPhenomDGenerator = gf.WaveformGenerator.load(injection_config_path)\n",
    "\n",
    "# Though not pretty, we can print the results to see that the generator has loaded from the json.\n",
    "print(loaded_phenom_d_generator)"
   ]
  },
  {
   "cell_type": "code",
   "execution_count": null,
   "metadata": {},
   "outputs": [],
   "source": [
    "# Initialize an InjectionGenerator that combines both PhenomD and WNB generators.\n",
    "# This allows for the generation of a mix of multiple waveform injections.\n",
    "loaded_injection_generator: gf.InjectionGenerator = gf.InjectionGenerator(\n",
    "    loaded_phenom_d_generator,  # List of waveform generators.\n",
    "    parameters_to_return=[\n",
    "        gf.WaveformParameters.MASS_1_MSUN,           # Mass of the first object in solar masses.\n",
    "        gf.WaveformParameters.MASS_2_MSUN,           # Mass of the second object in solar masses.\n",
    "        gf.WaveformParameters.INCLINATION_RADIANS,   # Inclination of the binary system.\n",
    "    ]\n",
    ")\n",
    "\n",
    "# Use the TensorFlow environment 'env' created earlier with gf.env()\n",
    "with env:\n",
    "    # Generate a batch of multiple types of injections using the multi_injection_generator.\n",
    "    # num_examples_per_batch is set to 4 to produce four examples in the batch.\n",
    "    phenom_d_loaded_injections, _, phenom_d_loaded_parameters = next(loaded_injection_generator(num_examples_per_batch=4))"
   ]
  },
  {
   "cell_type": "code",
   "execution_count": null,
   "metadata": {},
   "outputs": [],
   "source": [
    "# Extract the parameters from the distributed PhenomD injections.\n",
    "mass_1_parameters: tf.Tensor = phenom_d_loaded_parameters[gf.WaveformParameters.MASS_1_MSUN]\n",
    "mass_2_parameters: tf.Tensor = phenom_d_loaded_parameters[gf.WaveformParameters.MASS_2_MSUN]\n",
    "inclination_parameters: tf.Tensor = phenom_d_loaded_parameters[gf.WaveformParameters.INCLINATION_RADIANS]\n",
    "\n",
    "# Initialize an empty layout for the strain plots.\n",
    "loaded_phenom_layout: List = []\n",
    "\n",
    "# Iterate over the injections and their corresponding parameters.\n",
    "for injection, mass_1, mass_2, inclination in zip(\n",
    "        phenom_d_loaded_injections[0], \n",
    "        mass_1_parameters[0], \n",
    "        mass_2_parameters[0], \n",
    "        inclination_parameters[0]\n",
    "    ):\n",
    "    # Create strain plots for each injection with titles displaying the parameter values.\n",
    "    loaded_phenom_layout.append([\n",
    "        gf.generate_strain_plot(\n",
    "            {\n",
    "                \"Plus Polarisation\": injection[0],\n",
    "                \"Cross Polarisation\": injection[1]\n",
    "            },\n",
    "            height=400,\n",
    "            title=(\n",
    "                \"Phenom D Injection: \\n\"\n",
    "                f\"Companion 1 Mass: {mass_1:.2f} solar masses.\\n\"\n",
    "                f\"Companion 2 Mass: {mass_2:.2f} solar masses.\\n\"\n",
    "                f\"Inclination: {inclination:.2f} Radians.\"\n",
    "            )\n",
    "        )\n",
    "    ])\n",
    "\n",
    "# Arrange the plots in a grid layout and display them in the notebook.\n",
    "grid = gridplot(loaded_phenom_layout)\n",
    "output_notebook()\n",
    "show(grid)"
   ]
  },
  {
   "cell_type": "markdown",
   "metadata": {},
   "source": [
    "## Varying Injection Chance"
   ]
  }
 ],
 "metadata": {
  "kernelspec": {
   "display_name": "Python 3.10.13 ('gravyflow')",
   "language": "python",
   "name": "python3"
  },
  "language_info": {
   "codemirror_mode": {
    "name": "ipython",
    "version": 3
   },
   "file_extension": ".py",
   "mimetype": "text/x-python",
   "name": "python",
   "nbconvert_exporter": "python",
   "pygments_lexer": "ipython3",
   "version": "3.10.13"
  },
  "orig_nbformat": 4,
  "vscode": {
   "interpreter": {
    "hash": "0be68b4d857a3b55dcb84670c9ea8054a433650dc9da871ef592f2f480116ffb"
   }
  }
 },
 "nbformat": 4,
 "nbformat_minor": 2
}
