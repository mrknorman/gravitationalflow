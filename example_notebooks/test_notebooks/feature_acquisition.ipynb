{
 "cells": [
  {
   "cell_type": "code",
   "execution_count": 1,
   "metadata": {},
   "outputs": [
    {
     "name": "stderr",
     "output_type": "stream",
     "text": [
      "2024-06-27 09:55:32.415682: I tensorflow/core/platform/cpu_feature_guard.cc:182] This TensorFlow binary is optimized to use available CPU instructions in performance-critical operations.\n",
      "To enable the following instructions: AVX2 FMA, in other operations, rebuild TensorFlow with the appropriate compiler flags.\n"
     ]
    }
   ],
   "source": [
    "# Built-in imports:\n",
    "from typing import List\n",
    "from itertools import islice\n",
    "\n",
    "# Dependency imports: \n",
    "import tensorflow as tf\n",
    "from bokeh.io import show, output_notebook\n",
    "from bokeh.layouts import gridplot\n",
    "\n",
    "# Import the GravyFlow module:\n",
    "import gravyflow as gf"
   ]
  },
  {
   "cell_type": "code",
   "execution_count": 2,
   "metadata": {},
   "outputs": [
    {
     "name": "stderr",
     "output_type": "stream",
     "text": [
      "INFO:root:TensorFlow version: 2.12.1, CUDA version: 11.8\n",
      "2024-06-27 09:55:42.772183: W tensorflow/core/common_runtime/gpu/gpu_bfc_allocator.cc:47] Overriding orig_value setting because the TF_FORCE_GPU_ALLOW_GROWTH environment variable is set. Original config value was 0.\n",
      "2024-06-27 09:55:42.772273: I tensorflow/core/common_runtime/gpu/gpu_device.cc:1635] Created device /job:localhost/replica:0/task:0/device:GPU:0 with 3000 MB memory:  -> device: 0, name: Tesla V100-SXM2-16GB, pci bus id: 0000:0a:00.0, compute capability: 7.0\n",
      "INFO:root:[PhysicalDevice(name='/physical_device:GPU:0', device_type='GPU')]\n"
     ]
    }
   ],
   "source": [
    "# Set up the environment using gf.env() and return a tf.distribute.Strategy object.\n",
    "env : tf.distribute.Strategy = gf.env()"
   ]
  },
  {
   "cell_type": "code",
   "execution_count": 3,
   "metadata": {},
   "outputs": [],
   "source": [
    "# Setup the IFODataObtainer object:\n",
    "# This object will be used to obtain real interferometer data based on specified parameters.\n",
    "ifo_data_obtainer: gf.IFODataObtainer = gf.IFODataObtainer(\n",
    "    observing_runs=gf.ObservingRun.O3, # Specify the observing run (e.g., O3).\n",
    "    data_quality=gf.DataQuality.BEST,  # Choose the quality of the data (e.g., BEST).\n",
    "    data_labels=[                      # Define the types of data to include.\n",
    "        gf.DataLabel.EVENTS\n",
    "    ],\n",
    "    segment_order=gf.SegmentOrder.RANDOM, # Order of segment retrieval (e.g., RANDOM).\n",
    "    force_acquisition=True,               # Force the acquisition of new data.\n",
    "    cache_segments=False                  # Choose not to cache the segments.\n",
    ")"
   ]
  },
  {
   "cell_type": "code",
   "execution_count": 4,
   "metadata": {},
   "outputs": [],
   "source": [
    "# Initialize the noise generator wrapper:\n",
    "# This wrapper will use the ifo_data_obtainer to generate real noise based on the specified parameters.\n",
    "noise: gf.NoiseObtainer = gf.NoiseObtainer(\n",
    "    ifo_data_obtainer=ifo_data_obtainer, # Use the previously set up IFODataObtainer object.\n",
    "    noise_type=gf.NoiseType.REAL,        # Specify the type of noise as REAL.\n",
    "    ifos=gf.IFO.L1                       # Specify the interferometer (e.g., LIGO Livingston L1).\n",
    ")"
   ]
  },
  {
   "cell_type": "code",
   "execution_count": 5,
   "metadata": {},
   "outputs": [
    {
     "name": "stdout",
     "output_type": "stream",
     "text": [
      "[[1.23830367e+09 1.23830368e+09]\n",
      " [1.23830368e+09 1.23830379e+09]\n",
      " [1.23830379e+09 1.23830380e+09]\n",
      " ...\n",
      " [1.26796315e+09 1.26796322e+09]\n",
      " [1.26843104e+09 1.26843116e+09]\n",
      " [1.26890345e+09 1.26890358e+09]]\n"
     ]
    },
    {
     "ename": "NameError",
     "evalue": "name 'quit' is not defined",
     "output_type": "error",
     "traceback": [
      "\u001b[0;31m---------------------------------------------------------------------------\u001b[0m",
      "\u001b[0;31mNameError\u001b[0m                                 Traceback (most recent call last)",
      "Cell \u001b[0;32mIn[5], line 6\u001b[0m\n\u001b[1;32m      1\u001b[0m \u001b[38;5;66;03m# Use the TensorFlow environment 'env' created earlier with gf.env()\u001b[39;00m\n\u001b[1;32m      2\u001b[0m \u001b[38;5;28;01mwith\u001b[39;00m env:\n\u001b[1;32m      3\u001b[0m     \u001b[38;5;66;03m# Generate noise by calling the noise object with one example per batch.\u001b[39;00m\n\u001b[1;32m      4\u001b[0m     \u001b[38;5;66;03m# The next() function retrieves the generated noise data.\u001b[39;00m\n\u001b[1;32m      5\u001b[0m     \u001b[38;5;66;03m# This returns onsource noise, offsource noise, and GPS time of the noise segment.\u001b[39;00m\n\u001b[0;32m----> 6\u001b[0m     onsource, offsource, gps_times \u001b[38;5;241m=\u001b[39m \u001b[38;5;28mnext\u001b[39m(\u001b[43mnoise\u001b[49m\u001b[43m(\u001b[49m\u001b[43mnum_examples_per_batch\u001b[49m\u001b[38;5;241;43m=\u001b[39;49m\u001b[38;5;241;43m1\u001b[39;49m\u001b[43m)\u001b[49m)\n",
      "File \u001b[0;32m~/data_ad_infinitum/chapter_05_dragonn/gravyflow/gravyflow/src/dataset/noise/noise.py:386\u001b[0m, in \u001b[0;36mNoiseObtainer.__call__\u001b[0;34m(self, sample_rate_hertz, onsource_duration_seconds, crop_duration_seconds, offsource_duration_seconds, num_examples_per_batch, scale_factor, group, seed)\u001b[0m\n\u001b[1;32m    378\u001b[0m     \u001b[38;5;28;01mraise\u001b[39;00m \u001b[38;5;167;01mValueError\u001b[39;00m(\u001b[38;5;124m\"\"\"\u001b[39m\n\u001b[1;32m    379\u001b[0m \u001b[38;5;124m        No IFO obtainer object present. In order to acquire real \u001b[39m\n\u001b[1;32m    380\u001b[0m \u001b[38;5;124m        noise please parse a IFOObtainer object to NoiseObtainer\u001b[39m\n\u001b[1;32m    381\u001b[0m \u001b[38;5;124m        either during initlisation or through setting\u001b[39m\n\u001b[1;32m    382\u001b[0m \u001b[38;5;124m        NoiseObtainer.ifo_data_obtainer\u001b[39m\n\u001b[1;32m    383\u001b[0m \u001b[38;5;124m    \u001b[39m\u001b[38;5;124m\"\"\"\u001b[39m)\n\u001b[1;32m    384\u001b[0m \u001b[38;5;28;01melse\u001b[39;00m:\n\u001b[0;32m--> 386\u001b[0m     \u001b[38;5;28;43mself\u001b[39;49m\u001b[38;5;241;43m.\u001b[39;49m\u001b[43mifo_data_obtainer\u001b[49m\u001b[38;5;241;43m.\u001b[39;49m\u001b[43mget_valid_segments\u001b[49m\u001b[43m(\u001b[49m\n\u001b[1;32m    387\u001b[0m \u001b[43m        \u001b[49m\u001b[38;5;28;43mself\u001b[39;49m\u001b[38;5;241;43m.\u001b[39;49m\u001b[43mifos\u001b[49m\u001b[43m,\u001b[49m\n\u001b[1;32m    388\u001b[0m \u001b[43m        \u001b[49m\u001b[43mseed\u001b[49m\u001b[43m,\u001b[49m\n\u001b[1;32m    389\u001b[0m \u001b[43m        \u001b[49m\u001b[38;5;28;43mself\u001b[39;49m\u001b[38;5;241;43m.\u001b[39;49m\u001b[43mgroups\u001b[49m\u001b[43m,\u001b[49m\n\u001b[1;32m    390\u001b[0m \u001b[43m        \u001b[49m\u001b[43mgroup\u001b[49m\u001b[43m,\u001b[49m\n\u001b[1;32m    391\u001b[0m \u001b[43m    \u001b[49m\u001b[43m)\u001b[49m\n\u001b[1;32m    393\u001b[0m     \u001b[38;5;66;03m# Setup noise_file_path, file path is created from\u001b[39;00m\n\u001b[1;32m    394\u001b[0m     \u001b[38;5;66;03m# hash of unique parameters\u001b[39;00m\n\u001b[1;32m    395\u001b[0m     \u001b[38;5;28mself\u001b[39m\u001b[38;5;241m.\u001b[39mifo_data_obtainer\u001b[38;5;241m.\u001b[39mgenerate_file_path(\n\u001b[1;32m    396\u001b[0m         sample_rate_hertz,\n\u001b[1;32m    397\u001b[0m         group,\n\u001b[1;32m    398\u001b[0m         \u001b[38;5;28mself\u001b[39m\u001b[38;5;241m.\u001b[39mdata_directory_path\n\u001b[1;32m    399\u001b[0m     )\n",
      "File \u001b[0;32m~/data_ad_infinitum/chapter_05_dragonn/gravyflow/gravyflow/src/dataset/noise/acquisition.py:840\u001b[0m, in \u001b[0;36mIFODataObtainer.get_valid_segments\u001b[0;34m(self, ifos, seed, groups, group_name, segment_order)\u001b[0m\n\u001b[1;32m    829\u001b[0m     valid_segments : np\u001b[38;5;241m.\u001b[39mndarray \u001b[38;5;241m=\u001b[39m \\\n\u001b[1;32m    830\u001b[0m         \u001b[38;5;28mself\u001b[39m\u001b[38;5;241m.\u001b[39mcut_segments(\n\u001b[1;32m    831\u001b[0m             valid_segments, \n\u001b[1;32m    832\u001b[0m             \u001b[38;5;28mself\u001b[39m\u001b[38;5;241m.\u001b[39mmax_segment_duration_seconds,\n\u001b[1;32m    833\u001b[0m             \u001b[38;5;28mself\u001b[39m\u001b[38;5;241m.\u001b[39mstart_gps_times[\u001b[38;5;241m0\u001b[39m]\n\u001b[1;32m    834\u001b[0m         )\n\u001b[1;32m    836\u001b[0m \u001b[38;5;28;01mcase\u001b[39;00m AcquisitionMode\u001b[38;5;241m.\u001b[39mFEATURES:\n\u001b[1;32m    837\u001b[0m     \n\u001b[1;32m    838\u001b[0m     \u001b[38;5;66;03m# If in feature aquisition mode, get the times of feature\u001b[39;00m\n\u001b[1;32m    839\u001b[0m     \u001b[38;5;66;03m# segments:\u001b[39;00m\n\u001b[0;32m--> 840\u001b[0m     feature_segments, feature_times \u001b[38;5;241m=\u001b[39m \u001b[38;5;28;43mself\u001b[39;49m\u001b[38;5;241;43m.\u001b[39;49m\u001b[43mreturn_wanted_segments\u001b[49m\u001b[43m(\u001b[49m\n\u001b[1;32m    841\u001b[0m \u001b[43m        \u001b[49m\u001b[43mifo\u001b[49m\u001b[43m,\u001b[49m\n\u001b[1;32m    842\u001b[0m \u001b[43m        \u001b[49m\u001b[43mvalid_segments\u001b[49m\n\u001b[1;32m    843\u001b[0m \u001b[43m    \u001b[49m\u001b[43m)\u001b[49m\n\u001b[1;32m    845\u001b[0m     \u001b[38;5;28mprint\u001b[39m(feature_segments)\n\u001b[1;32m    847\u001b[0m     \u001b[38;5;28mself\u001b[39m\u001b[38;5;241m.\u001b[39mfeature_segments \u001b[38;5;241m=\u001b[39m \u001b[38;5;28mself\u001b[39m\u001b[38;5;241m.\u001b[39morder_segments(\n\u001b[1;32m    848\u001b[0m         feature_segments,\n\u001b[1;32m    849\u001b[0m         segment_order,\n\u001b[1;32m    850\u001b[0m         seed\n\u001b[1;32m    851\u001b[0m     )\n",
      "File \u001b[0;32m~/data_ad_infinitum/chapter_05_dragonn/gravyflow/gravyflow/src/dataset/noise/acquisition.py:735\u001b[0m, in \u001b[0;36mIFODataObtainer.return_wanted_segments\u001b[0;34m(self, ifo, valid_segments, start_padding_seconds, end_padding_seconds)\u001b[0m\n\u001b[1;32m    728\u001b[0m feature_times \u001b[38;5;241m=\u001b[39m {\n\u001b[1;32m    729\u001b[0m     gf\u001b[38;5;241m.\u001b[39mDataLabel\u001b[38;5;241m.\u001b[39mEVENTS : event_times,\n\u001b[1;32m    730\u001b[0m     gf\u001b[38;5;241m.\u001b[39mDataLabel\u001b[38;5;241m.\u001b[39mGLITCHES : glitch_times    \n\u001b[1;32m    731\u001b[0m }\n\u001b[1;32m    733\u001b[0m \u001b[38;5;28mprint\u001b[39m(valid_segments)\n\u001b[0;32m--> 735\u001b[0m \u001b[43mquit\u001b[49m()\n\u001b[1;32m    737\u001b[0m \u001b[38;5;28;01mif\u001b[39;00m \u001b[38;5;129;01mnot\u001b[39;00m valid_segments:\n\u001b[1;32m    738\u001b[0m     \u001b[38;5;28;01mraise\u001b[39;00m \u001b[38;5;167;01mValueError\u001b[39;00m(\n\u001b[1;32m    739\u001b[0m         \u001b[38;5;124m\"\u001b[39m\u001b[38;5;124mCannot find any features which overlap required times!\u001b[39m\u001b[38;5;124m\"\u001b[39m\n\u001b[1;32m    740\u001b[0m     )\n",
      "\u001b[0;31mNameError\u001b[0m: name 'quit' is not defined"
     ]
    }
   ],
   "source": [
    "# Use the TensorFlow environment 'env' created earlier with gf.env()\n",
    "with env:\n",
    "    # Generate noise by calling the noise object with one example per batch.\n",
    "    # The next() function retrieves the generated noise data.\n",
    "    # This returns onsource noise, offsource noise, and GPS time of the noise segment.\n",
    "    onsource, offsource, gps_times = next(noise(num_examples_per_batch=1))"
   ]
  }
 ],
 "metadata": {
  "kernelspec": {
   "display_name": "gravyflow",
   "language": "python",
   "name": "python3"
  },
  "language_info": {
   "codemirror_mode": {
    "name": "ipython",
    "version": 3
   },
   "file_extension": ".py",
   "mimetype": "text/x-python",
   "name": "python",
   "nbconvert_exporter": "python",
   "pygments_lexer": "ipython3",
   "version": "3.10.13"
  }
 },
 "nbformat": 4,
 "nbformat_minor": 2
}
