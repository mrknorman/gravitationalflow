{
 "cells": [
  {
   "cell_type": "code",
   "execution_count": 2,
   "metadata": {},
   "outputs": [],
   "source": [
    "# Built-in imports:\n",
    "from typing import List\n",
    "from itertools import islice\n",
    "\n",
    "# Dependency imports: \n",
    "import tensorflow as tf\n",
    "from bokeh.io import show, output_notebook\n",
    "from bokeh.layouts import gridplot\n",
    "\n",
    "# Import the GravyFlow module:\n",
    "import gravyflow as gf"
   ]
  },
  {
   "cell_type": "code",
   "execution_count": 3,
   "metadata": {},
   "outputs": [],
   "source": [
    "# Setup the IFODataObtainer object:\n",
    "# This object will be used to obtain real interferometer data based on specified parameters.\n",
    "ifo_data_obtainer: gf.IFODataObtainer = gf.IFODataObtainer(\n",
    "    observing_runs=gf.ObservingRun.O3, # Specify the observing run (e.g., O3).\n",
    "    data_quality=gf.DataQuality.BEST,  # Choose the quality of the data (e.g., BEST).\n",
    "    data_labels=[                      # Define the types of data to include.\n",
    "        gf.DataLabel.NOISE, \n",
    "        gf.DataLabel.GLITCHES\n",
    "    ],\n",
    "    segment_order=gf.SegmentOrder.RANDOM, # Order of segment retrieval (e.g., RANDOM).\n",
    "    force_acquisition=True,               # Force the acquisition of new data.\n",
    "    cache_segments=False                  # Choose not to cache the segments.\n",
    ")"
   ]
  },
  {
   "cell_type": "code",
   "execution_count": 4,
   "metadata": {},
   "outputs": [],
   "source": [
    "# Initialize the noise generator wrapper:\n",
    "# This wrapper will use the ifo_data_obtainer to generate real noise based on the specified parameters.\n",
    "noise: gf.NoiseObtainer = gf.NoiseObtainer(\n",
    "    ifo_data_obtainer=ifo_data_obtainer, # Use the previously set up IFODataObtainer object.\n",
    "    noise_type=gf.NoiseType.REAL,        # Specify the type of noise as REAL.\n",
    "    ifos=gf.IFO.L1                       # Specify the interferometer (e.g., LIGO Livingston L1).\n",
    ")"
   ]
  },
  {
   "cell_type": "code",
   "execution_count": 5,
   "metadata": {},
   "outputs": [],
   "source": [
    "def generate_noise():\n",
    "    with gf.env():\n",
    "        return next(noise(num_examples_per_batch=128))"
   ]
  },
  {
   "cell_type": "code",
   "execution_count": 6,
   "metadata": {},
   "outputs": [],
   "source": [
    "# Use the TensorFlow environment 'env' created earlier with gf.env()\n",
    "with gf.env():\n",
    "\t# Generate noise by calling the noise object with one example per batch.\n",
    "\t# The next() function retrieves the generated noise data.\n",
    "\t# This returns onsource noise, offsource noise, and GPS time of the noise segment.\n",
    "\tonsource, offsource, gps_times = next(noise(num_examples_per_batch=32))"
   ]
  },
  {
   "cell_type": "code",
   "execution_count": 7,
   "metadata": {},
   "outputs": [],
   "source": [
    "# Generate a plot for the onsource noise strain.\n",
    "# The first element of onsource (onsource[0]) is used for plotting,\n",
    "# and the corresponding GPS time is included in the title.\n",
    "onsource_gps_time = gps_times[0][0].numpy()\n",
    "onsource_strain_plot = gf.generate_strain_plot(\n",
    "    {\"Onsource Noise\": onsource[0]},\n",
    "    title=f\"Onsource Real Noise at {onsource_gps_time:.0f} s\"\n",
    ")\n",
    "\n",
    "# Generate a plot for the offsource noise strain.\n",
    "# The first element of offsource (offsource[0]) is used for plotting,\n",
    "# and the corresponding GPS time is included in the title.\n",
    "offsource_gps_time = gps_times[0][0].numpy() - 16.5\n",
    "offsource_strain_plot = gf.generate_strain_plot(\n",
    "    {\"Offsource Noise\": offsource[0]},\n",
    "    title=f\"Offsource Real Noise at {offsource_gps_time:.0f} s\"\n",
    ")\n",
    "\n",
    "# Create a layout for the plots.\n",
    "# This layout arranges the onsource and offsource strain plots side by side.\n",
    "layout: List = [[onsource_strain_plot, offsource_strain_plot]]\n",
    "\n",
    "# Arrange the plots in a grid layout and display them in the notebook.\n",
    "grid = gridplot(layout)\n",
    "output_notebook()\n",
    "show(grid)"
   ]
  },
  {
   "cell_type": "code",
   "execution_count": null,
   "metadata": {},
   "outputs": [],
   "source": [
    "\n",
    "with gf.env():\n",
    "    while noise(num_examples_per_batch=32):\n",
    "        pass"
   ]
  }
 ],
 "metadata": {
  "kernelspec": {
   "display_name": "gravyflow2",
   "language": "python",
   "name": "python3"
  },
  "language_info": {
   "codemirror_mode": {
    "name": "ipython",
    "version": 3
   },
   "file_extension": ".py",
   "mimetype": "text/x-python",
   "name": "python",
   "nbconvert_exporter": "python",
   "pygments_lexer": "ipython3",
   "version": "3.11.11"
  }
 },
 "nbformat": 4,
 "nbformat_minor": 2
}
