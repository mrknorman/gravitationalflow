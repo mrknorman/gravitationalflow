{
 "cells": [
  {
   "cell_type": "markdown",
   "id": "2fb362f8",
   "metadata": {},
   "source": [
    "# Notebook 1: Setting up the Environment"
   ]
  },
  {
   "cell_type": "markdown",
   "id": "4127ab3b",
   "metadata": {},
   "source": [
    "## Sharing is caring\n",
    "\n",
    "Assuming you will be using GravyFlow on a shared GPU compute cluster, it is important to select the appropriate GPU(s) before executing any programs. This introductory notebook will guide you in configuring GravyFlow to automatically select a GPU with available memory. It will also ensure your environment is properly set up for running GravyFlow."
   ]
  },
  {
   "cell_type": "markdown",
   "id": "6cf67322",
   "metadata": {},
   "source": [
    "## Notebook imports\n",
    "\n",
    "First, we will import a few built-in packages (os, sys) along with a key dependency, TensorFlow. These imports will be utilized in various sections of this notebook."
   ]
  },
  {
   "cell_type": "code",
   "execution_count": 1,
   "id": "c6b3d964",
   "metadata": {},
   "outputs": [
    {
     "name": "stderr",
     "output_type": "stream",
     "text": [
      "2024-06-11 07:10:43.132598: I tensorflow/core/platform/cpu_feature_guard.cc:210] This TensorFlow binary is optimized to use available CPU instructions in performance-critical operations.\n",
      "To enable the following instructions: AVX2 FMA, in other operations, rebuild TensorFlow with the appropriate compiler flags.\n",
      "2024-06-11 07:10:44.875872: W tensorflow/compiler/tf2tensorrt/utils/py_utils.cc:38] TF-TRT Warning: Could not find TensorRT\n"
     ]
    }
   ],
   "source": [
    "# Importing the os module, which provides functions for interacting with the operating system.\n",
    "# This can be used for file and directory operations, environment variable management, etc.\n",
    "import os\n",
    "\n",
    "# Importing List from the typing module. Typehints can be used to illustrate to the reader of the\n",
    "# code the type of variables, in this case, lists.\n",
    "from typing import List\n",
    "\n",
    "# Importing TensorFlow, a powerful library for machine learning and neural networks.\n",
    "# Renamed as 'tf' for ease of use in the code.\n",
    "import tensorflow as tf"
   ]
  },
  {
   "cell_type": "markdown",
   "id": "c6dd8239",
   "metadata": {},
   "source": [
    "## Import GravyFlow\n",
    "\n",
    "Next, we will import the GravyFlow module."
   ]
  },
  {
   "cell_type": "code",
   "execution_count": 2,
   "id": "feccc33f",
   "metadata": {},
   "outputs": [],
   "source": [
    "# Import the GravyFlow module and rename it as 'gf' for ease of use in the code.\n",
    "import gravyflow as gf"
   ]
  },
  {
   "cell_type": "markdown",
   "id": "74c64bc5",
   "metadata": {},
   "source": [
    "## GPU Setup\n",
    "\n",
    "For ease of use, GravyFlow includes a function, `gf.env`, designed to automatically configure the GPU environment.\n",
    "\n",
    "The `gf.env` function has the following optional arguments:\n",
    "\n",
    "- `min_gpu_memory_mb` : int = 4000\n",
    "\t> Sets the minimum GPU memory (in megabytes) required for a GPU to be considered available for GravyFlow.\n",
    "- `max_gpu_utilization_percentage` : float = 80\n",
    "\t> Specifies the maximum GPU utilization (as a percentage) before GravyFlow disallows its use. The default is 80%.\n",
    "- `num_gpus_to_request` : int = 1\n",
    "\t> Determines the number of GPUs GravyFlow will try to find and use. The default is 1.\n",
    "- `memory_to_allocate_tf` : int = 2000\n",
    "\t> Sets the amount of GPU memory (in megabytes) that GravyFlow allocates per GPU. This value is fixed to ensure that CUDA functions run efficiently. Default is 2000 Mb.\n",
    "- `gpus` : Union[str, int, List[Union[int, str]], None] = None\n",
    "\t> Allows manual allocation on specified GPUs. This is not recommended unless necessary. If set to None, GravyFlow automatically selects free GPUs.\n",
    "\n",
    "The function returns the following object:\n",
    "\n",
    "- `strategy` : tf.distribute.Strategy: \n",
    "\t> Enables multi-GPU usage in subsequent TensorFlow operations.\n",
    "\n",
    "### Function Operations\n",
    "\n",
    "When called, `gf.env` performs several operations:\n",
    "\n",
    "1. Identifies available GPUs with free memory exceeding `min_gpu_memory_mb`.\n",
    "2. Allocates a specified number of GPUs (`num_gpus_to_request`) for GravyFlow and cuPhenom, setting the `CUDA_VISIBLE_DEVICES` environment variable accordingly.\n",
    "3. Checks for compatibility between the CUDA and TensorFlow versions.\n",
    "4. Allocates `memory_to_allocate_tf` Mb of GPU memory to TensorFlow per requested GPU.\n",
    "5. Sets up and returns a `tf.distribute.Strategy` object for multi-GPU operations in TensorFlow.\n",
    "\n",
    "### Example Usage\n",
    "\n",
    "Below is an example of how to use `gf.env`:"
   ]
  },
  {
   "cell_type": "code",
   "execution_count": 3,
   "id": "db7298c7",
   "metadata": {},
   "outputs": [
    {
     "name": "stderr",
     "output_type": "stream",
     "text": [
      "INFO:root:TensorFlow version: 2.16.1, CUDA version: 12.3\n",
      "2024-06-11 07:10:53.338565: W tensorflow/core/common_runtime/gpu/gpu_device.cc:2251] Cannot dlopen some GPU libraries. Please make sure the missing libraries mentioned above are installed properly if you would like to use GPU. Follow the guide at https://www.tensorflow.org/install/gpu for how to download and setup the required libraries for your platform.\n",
      "Skipping registering GPU devices...\n",
      "INFO:root:[]\n"
     ]
    },
    {
     "name": "stdout",
     "output_type": "stream",
     "text": [
      "CUDA_VISIBLE_DEVICES after environment setup: 0\n",
      "GPUs visible to TensorFlow after environment setup: []\n"
     ]
    }
   ],
   "source": [
    "# Set up the environment using gf.env() and return a tf.distribute.Strategy object.\n",
    "env : tf.distribute.Strategy = gf.env()\n",
    "\n",
    "with env:\n",
    "    # All code within this block will be executed under the TensorFlow strategy scope.\n",
    "\n",
    "    # Printing the CUDA_VISIBLE_DEVICES environment variable after gf.env() setup.\n",
    "    # This shows which GPUs are allocated for TensorFlow operations.\n",
    "    cuda_visible_devices : str = os.environ.get('CUDA_VISIBLE_DEVICES', 'Not set.')\n",
    "    print(f'CUDA_VISIBLE_DEVICES after environment setup: {cuda_visible_devices}')\n",
    "\n",
    "    # Printing the list of GPUs visible to TensorFlow after gf.env() has been executed.\n",
    "    # This confirms the successful allocation and visibility of GPUs to TensorFlow.\n",
    "    gpus : List = tf.config.list_physical_devices('GPU')\n",
    "    print(f\"GPUs visible to TensorFlow after environment setup: {gpus}\")"
   ]
  },
  {
   "cell_type": "markdown",
   "id": "f3bd5057",
   "metadata": {},
   "source": [
    "## Important Notes on Using gf.env:\n",
    "\n",
    "Running any TensorFlow functionality before initializing the environment will cause it to run on all GPUs by default.\n",
    "You cannot set up the environment more than once per Python kernel session."
   ]
  },
  {
   "cell_type": "code",
   "execution_count": 4,
   "id": "ccbe5cb1",
   "metadata": {},
   "outputs": [
    {
     "ename": "Exception",
     "evalue": "No GPUs avalible as they were too busy or not existant.",
     "output_type": "error",
     "traceback": [
      "\u001b[0;31m---------------------------------------------------------------------------\u001b[0m",
      "\u001b[0;31mException\u001b[0m                                 Traceback (most recent call last)",
      "Cell \u001b[0;32mIn[4], line 2\u001b[0m\n\u001b[1;32m      1\u001b[0m \u001b[38;5;66;03m# Attempt to run gf.env again, this time requesting 2 GPUs, without restarting the kernel.\u001b[39;00m\n\u001b[0;32m----> 2\u001b[0m env : tf\u001b[38;5;241m.\u001b[39mdistribute\u001b[38;5;241m.\u001b[39mStrategy \u001b[38;5;241m=\u001b[39m \u001b[43mgf\u001b[49m\u001b[38;5;241;43m.\u001b[39;49m\u001b[43menv\u001b[49m\u001b[43m(\u001b[49m\u001b[43mnum_gpus_to_request\u001b[49m\u001b[38;5;241;43m=\u001b[39;49m\u001b[38;5;241;43m2\u001b[39;49m\u001b[43m)\u001b[49m\n\u001b[1;32m      4\u001b[0m \u001b[38;5;66;03m# gf.env will prevent the creation of a new scope, as TensorFlow does not allow this,\u001b[39;00m\n\u001b[1;32m      5\u001b[0m \u001b[38;5;66;03m# and will return the same environment that was set up initially.\u001b[39;00m\n\u001b[1;32m      6\u001b[0m \u001b[38;5;28;01mwith\u001b[39;00m env:\n\u001b[1;32m      7\u001b[0m     \u001b[38;5;66;03m# Fetching and printing the CUDA_VISIBLE_DEVICES environment variable.\u001b[39;00m\n\u001b[1;32m      8\u001b[0m     \u001b[38;5;66;03m# This check is to see if the environment variable has changed.\u001b[39;00m\n",
      "File \u001b[0;32m~/gravyflow/gravyflow/src/utils/gpu.py:260\u001b[0m, in \u001b[0;36menv\u001b[0;34m(min_gpu_memory_mb, max_gpu_utilization_percentage, num_gpus_to_request, memory_to_allocate_tf, gpus)\u001b[0m\n\u001b[1;32m    253\u001b[0m     gpus \u001b[38;5;241m=\u001b[39m find_available_GPUs(\n\u001b[1;32m    254\u001b[0m         min_memory_MB\u001b[38;5;241m=\u001b[39mmin_gpu_memory_mb, \n\u001b[1;32m    255\u001b[0m         max_utilization_percentage\u001b[38;5;241m=\u001b[39mmax_gpu_utilization_percentage,\n\u001b[1;32m    256\u001b[0m         max_needed\u001b[38;5;241m=\u001b[39mnum_gpus_to_request\n\u001b[1;32m    257\u001b[0m     )\n\u001b[1;32m    259\u001b[0m \u001b[38;5;28;01mif\u001b[39;00m \u001b[38;5;129;01mnot\u001b[39;00m gpus:\n\u001b[0;32m--> 260\u001b[0m     \u001b[38;5;28;01mraise\u001b[39;00m \u001b[38;5;167;01mException\u001b[39;00m(\u001b[38;5;124m\"\u001b[39m\u001b[38;5;124mNo GPUs avalible as they were too busy or not existant.\u001b[39m\u001b[38;5;124m\"\u001b[39m)\n\u001b[1;32m    261\u001b[0m \u001b[38;5;28;01melif\u001b[39;00m \u001b[38;5;28mlen\u001b[39m(gpus) \u001b[38;5;241m!=\u001b[39m num_gpus_to_request:\n\u001b[1;32m    262\u001b[0m     logging\u001b[38;5;241m.\u001b[39mwarning(\u001b[38;5;124mf\u001b[39m\u001b[38;5;124m\"\u001b[39m\u001b[38;5;124mCould not allocate requested number of GPUs (\u001b[39m\u001b[38;5;132;01m{\u001b[39;00mnum_gpus_to_request\u001b[38;5;132;01m}\u001b[39;00m\u001b[38;5;124m) as they were too busy or not existant. Allocated \u001b[39m\u001b[38;5;132;01m{\u001b[39;00m\u001b[38;5;28mlen\u001b[39m(gpus)\u001b[38;5;250m \u001b[39m\u001b[38;5;132;01m}\u001b[39;00m\u001b[38;5;124m instead.\u001b[39m\u001b[38;5;124m\"\u001b[39m)\n",
      "\u001b[0;31mException\u001b[0m: No GPUs avalible as they were too busy or not existant."
     ]
    }
   ],
   "source": [
    "# Attempt to run gf.env again, this time requesting 2 GPUs, without restarting the kernel.\n",
    "env : tf.distribute.Strategy = gf.env(num_gpus_to_request=2)\n",
    "\n",
    "# gf.env will prevent the creation of a new scope, as TensorFlow does not allow this,\n",
    "# and will return the same environment that was set up initially.\n",
    "with env:\n",
    "    # Fetching and printing the CUDA_VISIBLE_DEVICES environment variable.\n",
    "    # This check is to see if the environment variable has changed.\n",
    "    cuda_visible_devices : str = os.environ.get('CUDA_VISIBLE_DEVICES', 'Not set.')\n",
    "    print(f'CUDA_VISIBLE_DEVICES after environment setup: {cuda_visible_devices}. This has changed correctly.')\n",
    "\n",
    "    # Fetching and printing the list of GPUs visible to TensorFlow.\n",
    "    # This is to verify if the visible GPUs to TensorFlow have changed.\n",
    "    gpus : List = tf.config.list_physical_devices('GPU')\n",
    "    print(f\"GPUs visible to TensorFlow after environment setup: {gpus}. This has not changed.\")"
   ]
  },
  {
   "cell_type": "markdown",
   "id": "3562e506",
   "metadata": {},
   "source": [
    "Now that we have seen how to automatically set up the environment, let's move on to acquiring our first interferometer noise background dataset."
   ]
  }
 ],
 "metadata": {
  "kernelspec": {
   "display_name": "Python 3.10.13 ('gravyflow')",
   "language": "python",
   "name": "python3"
  },
  "language_info": {
   "codemirror_mode": {
    "name": "ipython",
    "version": 3
   },
   "file_extension": ".py",
   "mimetype": "text/x-python",
   "name": "python",
   "nbconvert_exporter": "python",
   "pygments_lexer": "ipython3",
   "version": "3.12.3"
  },
  "vscode": {
   "interpreter": {
    "hash": "0be68b4d857a3b55dcb84670c9ea8054a433650dc9da871ef592f2f480116ffb"
   }
  }
 },
 "nbformat": 4,
 "nbformat_minor": 5
}
