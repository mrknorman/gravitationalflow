{
 "cells": [
  {
   "cell_type": "markdown",
   "metadata": {},
   "source": [
    "#  Notebook 2: Data Acquisition\n",
    "\n",
    "In this notebook, we will explore how to generate noise and acquire real interferometer output data. In GravyFlow, datasets are constructed through composition. By combining various elements, such as noise, injections, and conditioning, we can create customized datasets tailored to our specific needs. \n",
    "\n",
    "**Note:** The iterators demonstrated in this notebook are not necessarily recommended for use in training machine learning models. Even if you only require noise, without any injected signals, it is probably more convenient to use `gf.Dataset`, which will be explained in a later notebook. However, instances of `gf.Dataset` are composed by combining iterators of the type produced in this notebook with iterators shown in subsequent notebooks. Therefore, understanding the function of these iterators is useful.\n",
    "\n",
    "We will begin by performing the necessary imports:"
   ]
  },
  {
   "cell_type": "code",
   "execution_count": 1,
   "metadata": {},
   "outputs": [
    {
     "name": "stderr",
     "output_type": "stream",
     "text": [
      "2025-02-11 03:02:41.936644: E external/local_xla/xla/stream_executor/cuda/cuda_fft.cc:477] Unable to register cuFFT factory: Attempting to register factory for plugin cuFFT when one has already been registered\n",
      "WARNING: All log messages before absl::InitializeLog() is called are written to STDERR\n",
      "E0000 00:00:1739264562.599630 3423805 cuda_dnn.cc:8310] Unable to register cuDNN factory: Attempting to register factory for plugin cuDNN when one has already been registered\n",
      "E0000 00:00:1739264562.746894 3423805 cuda_blas.cc:1418] Unable to register cuBLAS factory: Attempting to register factory for plugin cuBLAS when one has already been registered\n",
      "2025-02-11 03:02:45.461474: I tensorflow/core/platform/cpu_feature_guard.cc:210] This TensorFlow binary is optimized to use available CPU instructions in performance-critical operations.\n",
      "To enable the following instructions: AVX2 FMA, in other operations, rebuild TensorFlow with the appropriate compiler flags.\n"
     ]
    }
   ],
   "source": [
    "# Built-in imports:\n",
    "from typing import List\n",
    "from itertools import islice\n",
    "\n",
    "# Dependency imports: \n",
    "from bokeh.io import show, output_notebook\n",
    "from bokeh.layouts import gridplot\n",
    "\n",
    "# Import the GravyFlow module:\n",
    "import gravyflow as gf"
   ]
  },
  {
   "cell_type": "markdown",
   "metadata": {},
   "source": [
    "## Set GravyFlow Global Defaults\n",
    "\n",
    "Often, when working within a single notebook or Python script, some variables remain constant throughout our analysis. To accommodate these scenarios, GravyFlow allows us to set a number of defaults in a global defaults class. The values that can be set in this way include:\n",
    "\n",
    "- `seed` : int = 1000\n",
    "  > This is the default random seed that GravyFlow will use to initialize TensorFlow and Numpy random operations used for operations such as dataset shuffling, random noise generation, and waveform parameter randomization. Setting a consistent seed should result in consistent, repeatable outputs. The default value is 1000.\n",
    "- `num_examples_per_generation_batch` : int = 2048\n",
    "  > When acquiring real interferometer data, GravyFlow downloads data in batches. This is done for efficiency, to reduce the number of overall download requests and the overhead that comes with that. This parameter determines the number of training examples generated for each of those batches. When generating waveforms, they are also generated in batches of this number. The default value is 2048.\n",
    "- `num_examples_per_batch` : int = 32\n",
    "  > This parameter determines the number of examples that will be output by each iteration of the GravyFlow generators. When used to train a machine learning model, which is the primary design goal of GravyFlow. This number should be set to the same value as your desired training batch size.\n",
    "- `sample_rate_hertz` : float = 2048.0\n",
    "  > The default sample rate of the data input and output by GravyFlow in Hertz. The default value is 2048.0 Hz.\n",
    "- `onsource_duration_seconds` : float = 1.0\n",
    "    > The default duration of onsource data provided by GravyFlow iterators, in seconds. In GravyFlow, the onsource data is defined as data being analysed by your method that may contain a gravitational wave signal. As opposed to the offsource data, which is assumed not to contain any significant data features, and can be used as an example of uncontaminated noise for data conditioning purposes such as whitening. The default value is 1.0 s.\n",
    "- `offsource_duration_seconds` : float = 16.0\n",
    "    > The default duration of offsource data provided by GravyFlow iterators, in seconds. Offsource data is data that is assumed not to contain any significant features, and can be used as an example of uncontaminated noise for data conditioning purposes such as whitening. The default value is 16.0 s.\n",
    "- `crop_duration_seconds` : float = 0.5\n",
    "    > During some data conditioning operations, (currently only whitening), edge effects will be created. This will need to be cropped before data analysis is performed. GravyFlow does this automatically. crop_duration_seconds defines how much data to be cropped either side of the onsource segment, in seconds. Data will be cropped either side of the onsource so total cropped duration will be 2 × crop_duration_seconds. The default value is 0.5 s.\n",
    "- `scale_factor` : float = 1.0E21\n",
    "    > When gathering data for use in machine learning applications, we want our values to be close to one, as activation functions such as ReLU, SoftMax, and Sigmoid, are designed around this assumption. For that reason, we often want to scale our input data, which can be very small in the case of gravitational wave data. This value is used to scale both approximants and noise. The default value is 1.0E21.\n",
    "\n",
    "### Important Consideration\n",
    "\n",
    "Setting global variables like this can be problematic if you plan to use different values within the same Python script or notebook. There is a risk of forgetting to reset variables for some functions, which may lead to errors. If you intend to work with data that varies in any of these parameters, it is recommended to pass them as arguments to the corresponding function, instead of relying on the default values.\n",
    "\n",
    "Below we set some of these values to illustrate how they can be defined:"
   ]
  },
  {
   "cell_type": "code",
   "execution_count": 2,
   "metadata": {},
   "outputs": [],
   "source": [
    "# Here we set the default GravyFlow values. In this example, they are not changed from the defaults,\n",
    "# but this illustrates how you can set them.\n",
    "gf.Defaults.set(\n",
    "    sample_rate_hertz=2048.0,\n",
    "    onsource_duration_seconds=1.0,\n",
    "    offsource_duration_seconds=16.0,\n",
    "    crop_duration_seconds=0.5,\n",
    "    scale_factor=1.0E21\n",
    ")"
   ]
  },
  {
   "cell_type": "markdown",
   "metadata": {},
   "source": [
    "## Types of Noise\n",
    "\n",
    "GravyFlow currently supports four types of noise. Each type of noise has an associated GravyFlow ENUM. These are:\n",
    "\n",
    "1. White Gaussian Noise: `gf.NoiseType.WHITE`\n",
    "   > Simple white noise with a Gaussian distribution.\n",
    "\n",
    "2. Coloured Gaussian Noise: `gf.NoiseType.COLORED`\n",
    "   > White Gaussian noise coloured by the specified detector's design PSD (Power Spectral Density).\n",
    "\n",
    "3. Pseudo-Real Noise: `gf.NoiseType.PSEUDO_REAL`\n",
    "   > White Gaussian noise coloured by a PSD of data drawn from the detector. This type of noise can simulate the variance and non-stationary nature of real detector noise without including as many non-linearities.\n",
    "\n",
    "4. Real Noise: `gf.NoiseType.REAL`\n",
    "   > Real noise acquired from the specified interferometer. Evidently, this has the advantage of being the most realistic type of noise, but the disadvantage that it can lead to greater overfitting to the specific noise characteristics."
   ]
  },
  {
   "cell_type": "markdown",
   "metadata": {},
   "source": [
    "## Generating Simulated Noise\n",
    "\n",
    "The first two types of noise, White Gaussian Noise and Coloured Gaussian Noise, can be generated using only a `gf.NoiseObtainer` object. `gf.NoiseObtainer` takes several arguments:\n",
    "\n",
    "- `data_directory_path` : Path, default = `Path(\"./generator_data\")`\n",
    "  > Specifies the directory path where the NoiseObtainer will cache downloaded noise, applicable for Real or Pseudo-Real noise. The default value is `Path(\"./generator_data\")`.\n",
    "\n",
    "- `ifo_data_obtainer` : Union[None, gf.IFODataObtainer], default = `None`\n",
    "  > Required for real or pseudo-real noise. A `gf.IFODataObtainer` object manages the acquisition of interferometer data, which will be detailed later in this notebook. The default value is `None`.\n",
    "\n",
    "- `ifos` : Union[gf.IFO, List[gf.IFO]], default = `gf.IFO.L1`\n",
    "  > A list of interferometers from which to simulate or acquire noise. GravyFlow currently supports three IFOs, each represented by an ENUM: LIGO Livingston (`gf.IFO.L1`), LIGO Hanford (`gf.IFO.H1`), and Virgo (`gf.IFO.V1`). The default value is `gf.IFO.L1`.\n",
    "\n",
    "- `noise_type` : gf.NoiseType, default = `gf.NoiseType.REAL`\n",
    "  > Determines the type of noise to simulate, as discussed above. Options include `gf.NoiseType.WHITE`, `gf.NoiseType.COLORED`, `gf.NoiseType.PSEUDO_REAL`, and `gf.NoiseType.REAL`. The default value is `gf.NoiseType.REAL`. The default value is `gf.NoiseType.REAL`.\n",
    "\n",
    "- `groups` : Union[dict, None], default = `{\"train\" : 0.98, \"validate\" : 0.01, \"test\" : 0.01}`\n",
    "  > Allows the creation of distinct groups within real data segments. This is useful for separating training and testing data to ensure no overlap. By default, this parameter sets up train, validate, and test groups. Note that changes to this dictionary will affect the consistency of group assignments across different analyses. This parameter has no effect for `gf.NoiseType.WHITE` or `gf.NoiseType.COLORED`. The default value, which is generated after object initilization, is `{\"train\" : 0.98, \"validate\" : 0.01, \"test\" : 0.01}`.\n",
    "\n",
    "We can initialize a `gf.NoiseObtainer` object like so:"
   ]
  },
  {
   "cell_type": "code",
   "execution_count": 3,
   "metadata": {},
   "outputs": [],
   "source": [
    "# Initialize the white noise generator:\n",
    "white_noise : gf.NoiseObtainer = gf.NoiseObtainer(\n",
    "    # In white noise generation, the only parameter we need to set is the noise type.\n",
    "    noise_type=gf.NoiseType.WHITE\n",
    ")"
   ]
  },
  {
   "cell_type": "markdown",
   "metadata": {},
   "source": [
    "From this `white_noise` object, we can then create a noise generator by calling this object. When calling an initialized `gf.NoiseObtainer`, it accepts the following arguments:\n",
    "\n",
    "- `sample_rate_hertz` : `Union[float, None]` = `None`\n",
    "\t> The sample rate of the output noise. If None, which is the default, this value reverts to the default set in `gf.Defaults`.\n",
    "- `onsource_duration_seconds` : `Union[float, None]` = `None`\n",
    "    > The duration of the onsource noise, in seconds. If `None`, which is the default, this value reverts to the default set in `gf.Defaults`.\n",
    "- `crop_duration_seconds` : `Union[float, None]` = `None`\n",
    "    > A crop duration can also be added, for consistency with the rest of the pipeline. This provides extra noise equivalent to 2 × `crop_duration_seconds` that can be cropped after data conditioning. If `None`, which is the default, this value reverts to the default set in `gf.Defaults`.\n",
    "- `offsource_duration_seconds` : `Union[float, None]` = `None`\n",
    "    > The duration of offsource noise, in seconds. If `None`, which is the default, this value reverts to the default set in `gf.Defaults`.\n",
    "- `num_examples_per_batch` : `Union[int, None]` = `None`\n",
    "\t> The number of noise examples provided each time this iterator is called. If `None`, which is the default, this value reverts to the default set in `gf.Defaults`.\n",
    "- `scale_factor` : `float` = 1.0\n",
    "    > The scale factor to multiply the noise. Unlike the other values, this is 1.0 by default, as we usually scale at another point in our pipeline.\n",
    "- `group` : `str` = `\"train\"`\n",
    "\t> This parameter designates which group to draw real data from in the real or pseudo-real case. See the description of the groups parameter above. This parameter will do nothing when supplied for `gf.NoiseType.WHITE` or `gf.NoiseType.COLORED` noise.\n",
    "- `seed` : `Union[int, None]` = `None`\n",
    "    > This sets the random seed for any random values used in the noise generation or data acquisition process. Note if default, the value will use the value set in `gf.Defaults` which is 1000 by default. so results will still be deterministic. If pseduo-stocastic results are desired, the default seed in `gf.Defaults` should be set to `None`.\n",
    "\n",
    "Next, we will demonstrate some examples of GravyFlow generating some noise:"
   ]
  },
  {
   "cell_type": "markdown",
   "metadata": {},
   "source": [
    "### White Noise Example\n",
    "\n",
    "Since we have previously defined all our parameters, we can generate white noise without setting any additional parameters. However, since we only want to generate one example, we set `num_examples_per_batch=1`.\n",
    "\n",
    "Since a call to a `gf.NoiseObtainer` returns a Python iterator, as it's primarily designed for use in a loop, we cannot use the object as is, or index into the object directly. We can use Python's built-in `next` function to retrieve the next item returned from the generator.\n",
    "\n",
    "NOTE: Currently TensorFlow raises an error the first time you attempt to initilize an environment in Jupyter Notebook. If this occurs, please run the cell again.  "
   ]
  },
  {
   "cell_type": "code",
   "execution_count": 4,
   "metadata": {},
   "outputs": [
    {
     "name": "stdout",
     "output_type": "stream",
     "text": [
      "\n",
      "All GPUs are currently busy or do not meet the memory requirements:\n",
      "GPU   Total (MB)   Used (MB)    Free (MB)    Util (%)  \n",
      "-------------------------------------------------------\n",
      "0     16384        15806        \u001b[31m339         \u001b[0m \u001b[31m    96.5%\u001b[0m\n",
      "1     16384        15806        \u001b[31m339         \u001b[0m \u001b[31m    96.5%\u001b[0m\n",
      "2     16384        15806        \u001b[31m339         \u001b[0m \u001b[31m    96.5%\u001b[0m\n",
      "3     16384        15806        \u001b[31m339         \u001b[0m \u001b[31m    96.5%\u001b[0m\n",
      "4     16384        15806        \u001b[31m339         \u001b[0m \u001b[31m    96.5%\u001b[0m\n",
      "5     16384        15806        \u001b[31m339         \u001b[0m \u001b[31m    96.5%\u001b[0m\n",
      "6     16384        15814        \u001b[31m331         \u001b[0m \u001b[31m    96.5%\u001b[0m\n",
      "7     16384        13468        \u001b[31m2677        \u001b[0m \u001b[31m    82.2%\u001b[0m\n"
     ]
    },
    {
     "ename": "RuntimeError",
     "evalue": "All GPUs are busy or insufficient memory is available.",
     "output_type": "error",
     "traceback": [
      "\u001b[0;31m---------------------------------------------------------------------------\u001b[0m",
      "\u001b[0;31mRuntimeError\u001b[0m                              Traceback (most recent call last)",
      "Cell \u001b[0;32mIn[4], line 2\u001b[0m\n\u001b[1;32m      1\u001b[0m \u001b[38;5;66;03m# Using the environment 'env' created earlier with gf.env()\u001b[39;00m\n\u001b[0;32m----> 2\u001b[0m \u001b[38;5;28;01mwith\u001b[39;00m gf\u001b[38;5;241m.\u001b[39menv():\n\u001b[1;32m      3\u001b[0m     \u001b[38;5;66;03m# Generate white noise by calling the white_noise object with one example per \u001b[39;00m\n\u001b[1;32m      4\u001b[0m     \u001b[38;5;66;03m# batch. The next() function is used to retrieve the generated noise data.\u001b[39;00m\n\u001b[1;32m      5\u001b[0m     white_onsource, white_offsource, _ \u001b[38;5;241m=\u001b[39m \u001b[38;5;28mnext\u001b[39m(\n\u001b[1;32m      6\u001b[0m         white_noise(num_examples_per_batch\u001b[38;5;241m=\u001b[39m\u001b[38;5;241m1\u001b[39m)\n\u001b[1;32m      7\u001b[0m     )\n",
      "File \u001b[0;32m~/gravyflow/gravyflow/src/utils/gpu.py:266\u001b[0m, in \u001b[0;36menv\u001b[0;34m(min_gpu_memory_mb, max_gpu_utilization_percentage, num_gpus_to_request, memory_to_allocate_tf, gpus)\u001b[0m\n\u001b[1;32m    264\u001b[0m         \u001b[38;5;28;01mraise\u001b[39;00m \u001b[38;5;167;01mValueError\u001b[39;00m(\u001b[38;5;124m\"\u001b[39m\u001b[38;5;124mgpus should be int, str, or list/tuple of int or str\u001b[39m\u001b[38;5;124m\"\u001b[39m)\n\u001b[1;32m    265\u001b[0m \u001b[38;5;28;01melse\u001b[39;00m:\n\u001b[0;32m--> 266\u001b[0m     gpus \u001b[38;5;241m=\u001b[39m find_available_GPUs(\n\u001b[1;32m    267\u001b[0m         min_memory_MB\u001b[38;5;241m=\u001b[39mmin_gpu_memory_mb,\n\u001b[1;32m    268\u001b[0m         max_utilization_percentage\u001b[38;5;241m=\u001b[39mmax_gpu_utilization_percentage,\n\u001b[1;32m    269\u001b[0m         max_needed\u001b[38;5;241m=\u001b[39mnum_gpus_to_request\n\u001b[1;32m    270\u001b[0m     )\n\u001b[1;32m    272\u001b[0m available_gpu_list \u001b[38;5;241m=\u001b[39m gpus\u001b[38;5;241m.\u001b[39msplit(\u001b[38;5;124m\"\u001b[39m\u001b[38;5;124m,\u001b[39m\u001b[38;5;124m\"\u001b[39m) \u001b[38;5;28;01mif\u001b[39;00m gpus \u001b[38;5;28;01melse\u001b[39;00m []\n\u001b[1;32m    273\u001b[0m \u001b[38;5;28;01mif\u001b[39;00m \u001b[38;5;129;01mnot\u001b[39;00m available_gpu_list:\n",
      "File \u001b[0;32m~/gravyflow/gravyflow/src/utils/gpu.py:220\u001b[0m, in \u001b[0;36mfind_available_GPUs\u001b[0;34m(min_memory_MB, max_utilization_percentage, max_needed)\u001b[0m\n\u001b[1;32m    218\u001b[0m     \u001b[38;5;28mprint\u001b[39m(\u001b[38;5;124m\"\u001b[39m\u001b[38;5;130;01m\\n\u001b[39;00m\u001b[38;5;124mAll GPUs are currently busy or do not meet the memory requirements:\u001b[39m\u001b[38;5;124m\"\u001b[39m)\n\u001b[1;32m    219\u001b[0m     print_gpu_status(min_required_memory\u001b[38;5;241m=\u001b[39mmin_memory_MB)\n\u001b[0;32m--> 220\u001b[0m     \u001b[38;5;28;01mraise\u001b[39;00m \u001b[38;5;167;01mRuntimeError\u001b[39;00m(\u001b[38;5;124m\"\u001b[39m\u001b[38;5;124mAll GPUs are busy or insufficient memory is available.\u001b[39m\u001b[38;5;124m\"\u001b[39m)\n\u001b[1;32m    222\u001b[0m \u001b[38;5;28;01mif\u001b[39;00m max_needed \u001b[38;5;241m!=\u001b[39m \u001b[38;5;241m-\u001b[39m\u001b[38;5;241m1\u001b[39m:\n\u001b[1;32m    223\u001b[0m     available \u001b[38;5;241m=\u001b[39m available[:max_needed]\n",
      "\u001b[0;31mRuntimeError\u001b[0m: All GPUs are busy or insufficient memory is available."
     ]
    }
   ],
   "source": [
    "# Using the environment 'env' created earlier with gf.env()\n",
    "with gf.env():\n",
    "    # Generate white noise by calling the white_noise object with one example per \n",
    "    # batch. The next() function is used to retrieve the generated noise data.\n",
    "    white_onsource, white_offsource, _ = next(\n",
    "        white_noise(num_examples_per_batch=1)\n",
    "    )\n",
    "    \n",
    "    # In the case of real and pseudo-real noise, the third element returned would \n",
    "    # be the GPS start time of the real noise segment. For simulated noise, such \n",
    "    # as white noise, this simply returns None."
   ]
  },
  {
   "cell_type": "markdown",
   "metadata": {},
   "source": [
    "We can then plot these results. GravyFlow includes a number of plotting functions to aid visualisation. These functions utalise Bokeh, a plotting library that can create interactive HTML plots."
   ]
  },
  {
   "cell_type": "code",
   "execution_count": null,
   "metadata": {},
   "outputs": [],
   "source": [
    "# Generate a plot for the onsource white noise strain.\n",
    "# The first element of white_onsource (white_onsource[0]) is used for plotting.\n",
    "white_onsource_strain_plot = gf.generate_strain_plot(\n",
    "    {\"Onsource Noise\": white_onsource[0]},\n",
    "    title=\"Onsource White Noise\"\n",
    ")\n",
    "\n",
    "# Generate a plot for the offsource white noise strain.\n",
    "# The first element of white_offsource (white_offsource[0]) is used for plotting.\n",
    "white_offsource_strain_plot = gf.generate_strain_plot(\n",
    "    {\"Offsource Noise\": white_offsource[0]},\n",
    "    title=\"Offsource White Noise\"\n",
    ")\n",
    "\n",
    "# Create a layout for the plots. \n",
    "# This layout arranges the onsource and offsource strain plots side by side.\n",
    "white_plot_layout: List = [\n",
    "    [white_onsource_strain_plot, white_offsource_strain_plot]\n",
    "]\n",
    "\n",
    "# Arrange the plots in a grid layout and display them in the notebook.\n",
    "output_notebook()\n",
    "grid = gridplot(white_plot_layout)\n",
    "show(grid)\n"
   ]
  },
  {
   "cell_type": "markdown",
   "metadata": {},
   "source": [
    "### Coloured Noise Example\n",
    "\n",
    "Generating coloured noise is very similar to generating white noise. However, in this case, we must specify which interferometer we wish to simulate. GravyFlow currently uses the O3 detector PSD specification to colour the noise based on the chosen detector."
   ]
  },
  {
   "cell_type": "code",
   "execution_count": null,
   "metadata": {},
   "outputs": [],
   "source": [
    "# Initialize the colored noise generator:\n",
    "# For colored noise, we need to specify an interferometer.\n",
    "colored_noise: gf.NoiseObtainer = gf.NoiseObtainer(\n",
    "    noise_type=gf.NoiseType.COLORED,\n",
    "    ifos=gf.IFO.L1  # Specify the interferometer, e.g., LIGO Livingston (L1).\n",
    ")"
   ]
  },
  {
   "cell_type": "code",
   "execution_count": null,
   "metadata": {},
   "outputs": [],
   "source": [
    "# Using the environment 'env' created earlier with gf.env()\n",
    "with gf.env():\n",
    "    # Generate colored noise by calling the colored_noise object with one example \n",
    "    # per batch. The next() function is used to retrieve the generated noise data.\n",
    "    colored_onsource, colored_offsource, _ = next(\n",
    "        colored_noise(num_examples_per_batch=1)\n",
    "    )\n",
    "    \n",
    "    # In the case of real and pseudo-real noise, the third element returned would \n",
    "    # be the GPS start time of the real noise segment. For simulated noise, such \n",
    "    # as colored noise, this simply returns None."
   ]
  },
  {
   "cell_type": "markdown",
   "metadata": {},
   "source": [
    "Again, we can plot these results:"
   ]
  },
  {
   "cell_type": "code",
   "execution_count": null,
   "metadata": {},
   "outputs": [],
   "source": [
    "# Generate a plot for the onsource colored noise strain.\n",
    "# The first element of colored_onsource (colored_onsource[0]) is used for plotting.\n",
    "colored_onsource_strain_plot = gf.generate_strain_plot(\n",
    "    {\"Onsource Noise\": colored_onsource[0]},\n",
    "    title=\"Onsource Coloured Noise\"\n",
    ")\n",
    "\n",
    "# Generate a plot for the offsource colored noise strain.\n",
    "# The first element of colored_offsource (colored_offsource[0]) is used for plotting.\n",
    "colored_offsource_strain_plot = gf.generate_strain_plot(\n",
    "    {\"Offsource Noise\": colored_offsource[0]},\n",
    "    title=\"Offsource Coloured Noise\"\n",
    ")\n",
    "\n",
    "# Create a layout for the plots. \n",
    "# This layout arranges the onsource and offsource strain plots side by side.\n",
    "colored_plot_layout: List = [\n",
    "    [colored_onsource_strain_plot, colored_offsource_strain_plot]\n",
    "]\n",
    "\n",
    "# Arrange the plots in a grid layout and display them in the notebook.\n",
    "grid = gridplot(colored_plot_layout)\n",
    "output_notebook()\n",
    "show(grid)"
   ]
  },
  {
   "cell_type": "markdown",
   "metadata": {},
   "source": [
    "## Obtaining Real Noise\n",
    "\n",
    "If we want to generate pseudo-random noise from real data or obtain samples of real data, we must create an additional object to pass to the noise generator, an instance of `gf.IFODataObtainer`. This object contains various parameters which specify which data to collect:\n",
    "\n",
    "- `observing_runs` : Union[`gf.ObservingRun`, List[`gf.ObservingRun`]]:\n",
    "  > Specify which observing run you would like to sample data from (multiple observing runs not yet supported). By default, the data obtainer will pull a random sample from a random time during the chosen observing run, which satisfies the other selection criteria given by data quality and data labels. If you want to retrieve data from a custom GPS range, this can be achieved using the overrides dictionary.\n",
    "\n",
    "- `data_quality` : `gf.DataQuality`:\n",
    "  > Specify what kind of data to acquire. Currently, only supports `gf.DataQuality.BEST`, which retrieves the cleaned output channels with lines removed.\n",
    "\n",
    "- `data_labels` : Union[`gf.DataLabel`, List[`gf.DataLabel`]]:\n",
    "  > The data labels parameter specifies which features to include or exclude from our sample pool. The three types of data labels are `gf.DataLabel.NOISE`, `gf.DataLabel.EVENT`, and `gf.DataLabel.GLITCH`. Glitches are mapped using the GravitySpy glitch database, and events are any event or candidate event listed in a GWTC catalogue. For example, to return only noise and glitches, use this list: `[gf.DataLabel.NOISE, gf.DataLabel.GLITCH]`, which excludes known and possible event times from the returned data. If you wish to exclude glitches, use just `gf.DataLabel.NOISE`. Note that excluding glitches will slightly increase preprocessing time, as they are numerous. Currently, the noise obtainer does not support extracting features only, such as only events or only glitches.\n",
    "\n",
    "- `segment_order` : gf.SegmentOrder = `gf.SegmentOrder.RANDOM`:\n",
    "  > This parameter specifies the order in which segments are retrieved by the iterator. Options are `gf.SegmentOrder.RANDOM`, where the order is randomized deterministically based on the current seed, `gf.SegmentOrder.CHRONOLOGICAL`, where segments are returned in order of their GPS times, and `gf.SegmentOrder.SHORTEST_FIRST`, where the shortest segment is returned first. This is primarily used for debugging. `gf.SegmentOrder.RANDOM` is recommended for most use cases. The default value is `gf.SegmentOrder.RANDOM`.\n",
    "\n",
    "- `max_segment_duration_seconds` : float = 2048.0:\n",
    "  > This parameter determines the maximum length of downloaded data segments. GravyFlow downloads data in segments and then distributes these segments into smaller examples until that segment is exhausted, at which point it downloads the next segment. This approach means that several segments in a row will be drawn from similar GPS times, which are no greater than this value apart, reducing mixing. If a greater mix of data from across your input range is desired, use a lower value for this number. Note that this will increase data acquisition overhead. If less mixing is necessary, experiment with larger values. Be aware that larger values will result in higher memory usage. The default value is 2048.0 s.\n",
    "\n",
    "- `saturation` : float = 1.0:\n",
    "  > This parameter determines how many examples to create from every downloaded segment. If this is one, then one second of example data will be generated for every second of segment data. The default value is 1.0.\n",
    "\n",
    "- `force_acquisition` : bool = False:\n",
    "  > If true, this parameter forces the data_obtainer to acquire and save new segment data even if it finds cached segment data. The default is False.\n",
    "\n",
    "- `cache_segments` : bool = True:\n",
    "  > If true, this parameter will cause the IFODataObtainer object to save downloaded segments to an HDF5 file in a location specified by its containing DataObtainer. When running the iterator for a second time with the same parameters, the IFODataObtainer will load the saved data rather than downloading it again, unless `force_acquisition` is True. The default is True.\n",
    "\n",
    "- `overrides` : dict = None:\n",
    "  > This parameter lets you set more specific GPS time ranges by overriding the parameters given by the inputted `gf.ObservingRun` Enum. For example, this override dictionary could be passed to restrict the GPS times to a specific range: `{\"start_gps_times\": ...}`\n",
    "\n",
    "- `logging_level` : int = `logging.WARNING`:\n",
    "  > Specifies the logging level for the data acquisition process."
   ]
  },
  {
   "cell_type": "code",
   "execution_count": null,
   "metadata": {},
   "outputs": [],
   "source": [
    "# Setup the IFODataObtainer object:\n",
    "# This object will be used to obtain real interferometer data based on specified parameters.\n",
    "ifo_data_obtainer: gf.IFODataObtainer = gf.IFODataObtainer(\n",
    "    observing_runs=gf.ObservingRun.O3, # Specify the observing run (e.g., O3).\n",
    "    data_quality=gf.DataQuality.BEST,  # Choose the quality of the data (e.g., BEST).\n",
    "    data_labels=[                      # Define the types of data to include.\n",
    "        gf.DataLabel.NOISE, \n",
    "        gf.DataLabel.GLITCHES\n",
    "    ],\n",
    "    segment_order=gf.SegmentOrder.RANDOM, # Order of segment retrieval (e.g., RANDOM).\n",
    "    force_acquisition=True,               # Force the acquisition of new data.\n",
    "    cache_segments=False                  # Choose not to cache the segments.\n",
    ")"
   ]
  },
  {
   "cell_type": "markdown",
   "metadata": {},
   "source": [
    "With the `gf.IFODataObtainer` object set up, we can now proceed to initialize our noise generator. The `gf.NoiseObtainer` will use the `gf.IFODataObtainer` instance to pull real noise data based on our specified criteria. This approach allows us to generate noise samples generated from observational data.\n",
    "\n",
    "In this step, we also specify the type of noise we wish to generate (`gf.NoiseType.REAL`) and select the interferometer (`gf.IFO.L1`). By choosing `gf.NoiseType.REAL`, we ensure that the noise samples are pulled from real interferometric data, providing us with authentic noise characteristics for our analysis."
   ]
  },
  {
   "cell_type": "code",
   "execution_count": null,
   "metadata": {},
   "outputs": [],
   "source": [
    "# Initialize the noise generator wrapper:\n",
    "# This wrapper will use the ifo_data_obtainer to generate real noise based on the specified parameters.\n",
    "noise: gf.NoiseObtainer = gf.NoiseObtainer(\n",
    "    ifo_data_obtainer=ifo_data_obtainer, # Use the previously set up IFODataObtainer object.\n",
    "    noise_type=gf.NoiseType.REAL,        # Specify the type of noise as REAL.\n",
    "    ifos=gf.IFO.L1                       # Specify the interferometer (e.g., LIGO Livingston L1).\n",
    ")"
   ]
  },
  {
   "cell_type": "markdown",
   "metadata": {},
   "source": [
    "We can then use this object to create a Python generator, just as before:"
   ]
  },
  {
   "cell_type": "code",
   "execution_count": null,
   "metadata": {},
   "outputs": [],
   "source": [
    "# Use the TensorFlow environment 'env' created earlier with gf.env()\n",
    "with gf.env():\n",
    "    # Generate noise by calling the noise object with one example per batch.\n",
    "    # The next() function retrieves the generated noise data.\n",
    "    # This returns onsource noise, offsource noise, and GPS time of the noise segment.\n",
    "    onsource, offsource, gps_times = next(noise(num_examples_per_batch=1))\n"
   ]
  },
  {
   "cell_type": "markdown",
   "metadata": {},
   "source": [
    "Similarly, we can plot the resultant real noise:"
   ]
  },
  {
   "cell_type": "code",
   "execution_count": null,
   "metadata": {},
   "outputs": [],
   "source": [
    "# Generate a plot for the onsource noise strain.\n",
    "# The first element of onsource (onsource[0]) is used for plotting,\n",
    "# and the corresponding GPS time is included in the title.\n",
    "onsource_gps_time = gps_times[0][0].numpy()\n",
    "onsource_strain_plot = gf.generate_strain_plot(\n",
    "    {\"Onsource Noise\": onsource[0]},\n",
    "    title=f\"Onsource Real Noise at {onsource_gps_time:.0f} s\"\n",
    ")\n",
    "\n",
    "# Generate a plot for the offsource noise strain.\n",
    "# The first element of offsource (offsource[0]) is used for plotting,\n",
    "# and the corresponding GPS time is included in the title.\n",
    "offsource_gps_time = gps_times[0][0].numpy() - 16.5\n",
    "offsource_strain_plot = gf.generate_strain_plot(\n",
    "    {\"Offsource Noise\": offsource[0]},\n",
    "    title=f\"Offsource Real Noise at {offsource_gps_time:.0f} s\"\n",
    ")\n",
    "\n",
    "# Create a layout for the plots.\n",
    "# This layout arranges the onsource and offsource strain plots side by side.\n",
    "layout: List = [[onsource_strain_plot, offsource_strain_plot]]\n",
    "\n",
    "# Arrange the plots in a grid layout and display them in the notebook.\n",
    "grid = gridplot(layout)\n",
    "output_notebook()\n",
    "show(grid)"
   ]
  },
  {
   "cell_type": "markdown",
   "metadata": {},
   "source": [
    "The process for acquiring pseduo-real noise is identical to real, using `gf.NoiseType.PSEUDO_REAL' rather than `gf.NoiseType.REAL'."
   ]
  },
  {
   "cell_type": "markdown",
   "metadata": {},
   "source": [
    "## Using Noise Objects as Iterators\n",
    "\n",
    "Now that we have set up our noise generator, we can use it as an iterator to generate multiple samples of noise. This is particularly useful when we need to process or analyze a series of noise examples, such as for training machine learning models or conducting statistical analyses. In this section, we will demonstrate how to iterate over the `gf.NoiseObtainer` object to generate a specified number of noise samples.\n",
    "\n",
    "By iterating over the noise() object within a for loop, we can efficiently generate multiple sets of onsource and offsource noise, along with their corresponding GPS times. This approach allows us to handle each noise sample individually, providing flexibility for a wide range of applications.\n",
    "\n",
    "Let's go through a simple example where we iterate over the noise generator to retrieve multiple noise samples:"
   ]
  },
  {
   "cell_type": "code",
   "execution_count": null,
   "metadata": {},
   "outputs": [],
   "source": [
    "# Set the number of iterations - the number of batches of noise samples we want \n",
    "# to generate:\n",
    "num_iterations: int = 16\n",
    "\n",
    "# Using the TensorFlow environment 'env' created earlier with gf.env()\n",
    "with gf.env(): \n",
    "    # Iterate over the noise generator using islice to limit the number of iterations\n",
    "    for onsource, offsource, gps_times in islice(noise(), num_iterations):\n",
    "        # For each iteration, we receive a batch of onsource and offsource noise \n",
    "        # data samples along with the corresponding GPS times.\n",
    "        # Here, we simply print a message indicating the reception of new noise \n",
    "        # examples.\n",
    "        print(\n",
    "            (f\"Got {onsource.shape[0]} more noise examples! Should probably do \"\n",
    "             \"something useful with them!\")\n",
    "        )"
   ]
  },
  {
   "cell_type": "markdown",
   "metadata": {},
   "source": [
    "## Acquiring Data from Multiple Interferometers\n",
    "\n",
    "In addition to generating noise samples from a single interferometer, GravyFlow provides the capability to acquire data from multiple interferometers simultaneously. By specifying multiple interferometers in the `gf.NoiseObtainer` object, we can seamlessly retrieve noise data from each of them within the same workflow.\n",
    "\n",
    "When assigning segment times, GravyFlow creates splits that are present in all detectors and pairs valid segments together. These paired segments are then retrieved in union when outputs from multiple detectors are requested.\n",
    "\n",
    "Let's set up a `gf.NoiseObtainer` object to acquire real noise data from both LIGO Livingston (L1) and LIGO Hanford (H1) interferometers:"
   ]
  },
  {
   "cell_type": "code",
   "execution_count": null,
   "metadata": {},
   "outputs": [],
   "source": [
    "ifo_data_obtainer: gf.IFODataObtainer = gf.IFODataObtainer(\n",
    "    observing_runs=gf.ObservingRun.O3, # Specify the observing run (e.g., O3).\n",
    "    data_quality=gf.DataQuality.BEST,  # Choose the quality of the data (e.g., BEST).\n",
    "    data_labels=[                      # Define the types of data to include.\n",
    "        gf.DataLabel.NOISE, \n",
    "        gf.DataLabel.GLITCHES\n",
    "    ],\n",
    "    segment_order=gf.SegmentOrder.RANDOM, # Order of segment retrieval (e.g., RANDOM).\n",
    "    force_acquisition=True,               # Force the acquisition of new data.\n",
    "    cache_segments=False                  # Choose not to cache the segments.\n",
    ")\n",
    "\n",
    "# Initialize a NoiseObtainer object to acquire data from multiple interferometers\n",
    "multi_ifo_noise: gf.NoiseObtainer = gf.NoiseObtainer(\n",
    "    ifo_data_obtainer=ifo_data_obtainer,  # Reuse the previously set up IFODataObtainer object.\n",
    "    noise_type=gf.NoiseType.REAL,         # Specify the type of noise as REAL.\n",
    "    ifos=[gf.IFO.L1, gf.IFO.H1]           # Specify multiple interferometers (LIGO Livingston and LIGO Hanford).\n",
    ")"
   ]
  },
  {
   "cell_type": "markdown",
   "metadata": {},
   "source": [
    "We then call the `gf.NoiseObtainer` object, to create a Python generator, and get one element from that generator:"
   ]
  },
  {
   "cell_type": "code",
   "execution_count": null,
   "metadata": {},
   "outputs": [],
   "source": [
    "# Using the multi_ifo_noise object to generate a batch of noise samples\n",
    "# from multiple interferometers (LIGO Livingston and LIGO Hanford).\n",
    "# The next() function is used to retrieve the generated noise data.\n",
    "multi_onsource, multi_offsource, multi_gps_times = next(\n",
    "    multi_ifo_noise(num_examples_per_batch=1)\n",
    ")\n",
    "\n",
    "# This operation will yield onsource noise, offsource noise, and GPS times\n",
    "# for the noise segment from both interferometers."
   ]
  },
  {
   "cell_type": "markdown",
   "metadata": {},
   "source": [
    "And plot the multi-detector noise:"
   ]
  },
  {
   "cell_type": "code",
   "execution_count": null,
   "metadata": {},
   "outputs": [],
   "source": [
    "# Generate a strain plot for the onsource noise obtained from multiple interferometers.\n",
    "# The first element of multi_onsource (multi_onsource[0]) is used for plotting,\n",
    "# and the corresponding GPS time is included in the title.\n",
    "multi_onsource_strain_plot = gf.generate_strain_plot(\n",
    "    {\"Onsource Noise\": multi_onsource[0]},\n",
    "    title=[\n",
    "        f\"Onsource Real L1 Noise at {multi_gps_times[0][0]:.0f} s\",\n",
    "        f\"Onsource Real H1 Noise at {multi_gps_times[0][1]:.0f} s\",\n",
    "    ]\n",
    ")\n",
    "\n",
    "# Generate a strain plot for the offsource noise obtained from multiple interferometers.\n",
    "# The first element of multi_offsource (multi_offsource[0]) is used for plotting,\n",
    "# and the corresponding GPS time is included in the title.\n",
    "multi_offsource_strain_plot = gf.generate_strain_plot(\n",
    "    {\"Offsource Noise\": multi_offsource[0]},\n",
    "    title=[\n",
    "        f\"L1 Offsource Real L1 Noise at {multi_gps_times[0][0]:.0f} s\",\n",
    "        f\"H1 Offsource Real H1 Noise at {multi_gps_times[0][1]:.0f} s\",\n",
    "    ]\n",
    ")\n",
    "\n",
    "# Create a layout for the plots. \n",
    "# This layout arranges the onsource and offsource strain plots from multiple interferometers \n",
    "# side by side.\n",
    "multi_layout: List = [[multi_onsource_strain_plot, multi_offsource_strain_plot]]\n",
    "\n",
    "# Arrange the plots in a grid layout and display them in the notebook.\n",
    "multi_grid = gridplot(multi_layout)\n",
    "output_notebook()\n",
    "show(multi_grid)"
   ]
  },
  {
   "cell_type": "markdown",
   "metadata": {},
   "source": [
    "## Summary of Notebook 2: Data Acquisition\n",
    "\n",
    "In this notebook, we have explored various functionalities of GravyFlow, particularly in the context of noise acquisition and processing. Key highlights include:\n",
    "\n",
    "1. **Global Defaults**: Setting global defaults in GravyFlow for consistent parameters across our analysis.\n",
    "\n",
    "2. **Noise Generation**: We learned how to generate different types of noise, including White and Coloured Gaussian Noise, using `gf.NoiseObtainer`.\n",
    "\n",
    "3. **Iterating Over Noise Samples**: Demonstrated the use of `gf.NoiseObtainer` as an iterator to generate multiple noise samples, ideal for batch processing or model training.\n",
    "\n",
    "4. **Multi-Interferometer Data Acquisition**: Showcased the capability to acquire noise data from multiple interferometers simultaneously, enhancing the depth of analysis.\n",
    "\n",
    "5. **Visualization with Strain Plots**: Utilized GravyFlow's plotting capabilities to visualize onsource and offsource noise data.\n",
    "\n",
    "6. **Real Noise Data Handling**: Explored the use of `gf.IFODataObtainer` for acquiring real noise data, along with the handling of GPS times and segment pairing.\n",
    "\n",
    "The insights gained from this notebook lay the foundation for our next steps in gravitational wave data analysis.\n",
    "\n",
    "In the next notebook, we will delve into the generation of gravitational waveforms. Building on the noise data acquired and processed in this notebook, we will focus on creating and injecting waveforms into the background noise. This process is crucial for simulating realistic gravitational wave signals and preparing datasets for tasks like signal detection and parameter estimation.\n",
    "\n",
    "We will explore various waveform models available in GravyFlow, understand how to parameterize these waveforms, and learn techniques for effectively injecting them into noise data. The goal is to create a robust and realistic dataset that mimics actual gravitational wave signals, paving the way for advanced analyses and model training."
   ]
  },
  {
   "cell_type": "markdown",
   "metadata": {},
   "source": [
    "## Appendix: Exploring The Data Acquisition Process"
   ]
  },
  {
   "cell_type": "code",
   "execution_count": null,
   "metadata": {},
   "outputs": [],
   "source": [
    "# Setup the IFODataObtainer object:\n",
    "# This object will be used to obtain real interferometer data based on specified parameters.\n",
    "ifo_data_obtainer: gf.IFODataObtainer = gf.IFODataObtainer(\n",
    "    observing_runs=gf.ObservingRun.O3,         # Specify the observing run (e.g., O3).\n",
    "    data_quality=gf.DataQuality.BEST,          # Choose the quality of the data (e.g., BEST).\n",
    "    data_labels=[                              # Define the types of data to include.\n",
    "        gf.DataLabel.NOISE, \n",
    "        gf.DataLabel.GLITCHES\n",
    "    ],\n",
    "    segment_order=gf.SegmentOrder.RANDOM,      # Order of segment retrieval (e.g., RANDOM).\n",
    "    force_acquisition=True,                    # Force the acquisition of new data.\n",
    "    cache_segments=False,                       # Choose not to cache the segments.\n",
    ")"
   ]
  }
 ],
 "metadata": {
  "kernelspec": {
   "display_name": "gravyflow2",
   "language": "python",
   "name": "python3"
  },
  "language_info": {
   "codemirror_mode": {
    "name": "ipython",
    "version": 3
   },
   "file_extension": ".py",
   "mimetype": "text/x-python",
   "name": "python",
   "nbconvert_exporter": "python",
   "pygments_lexer": "ipython3",
   "version": "3.11.11"
  },
  "orig_nbformat": 4
 },
 "nbformat": 4,
 "nbformat_minor": 2
}
