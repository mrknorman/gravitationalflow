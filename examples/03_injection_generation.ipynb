{
 "cells": [
  {
   "cell_type": "markdown",
   "metadata": {},
   "source": [
    "# Notebook 3: Injection Generation\n",
    "\n"
   ]
  },
  {
   "cell_type": "code",
   "execution_count": 3,
   "metadata": {},
   "outputs": [
    {
     "name": "stderr",
     "output_type": "stream",
     "text": [
      "2024-01-10 09:50:41.280026: I tensorflow/core/platform/cpu_feature_guard.cc:182] This TensorFlow binary is optimized to use available CPU instructions in performance-critical operations.\n",
      "To enable the following instructions: AVX2 FMA, in other operations, rebuild TensorFlow with the appropriate compiler flags.\n"
     ]
    }
   ],
   "source": [
    "# Built-in imports\n",
    "import os\n",
    "import sys\n",
    "from typing import Iterator, List\n",
    "from pathlib import Path\n",
    "from itertools import islice\n",
    "\n",
    "# Dependency imports: \n",
    "import numpy as np\n",
    "import tensorflow as tf\n",
    "from bokeh.io import show, output_notebook\n",
    "from bokeh.layouts import gridplot\n",
    "\n",
    "# GravyFlow import, again adding the grandparent directory to the path:\n",
    "\n",
    "# Get the absolute path of the grandparent directory (two levels up from the current directory)\n",
    "parent_dir = os.path.abspath('../../')\n",
    "\n",
    "# Add the grandparent directory to sys.path if it's not already there.\n",
    "# This is necessary to import GravyFlow if it's located in the grandparent directory.\n",
    "if parent_dir not in sys.path:\n",
    "    sys.path.append(parent_dir)\n",
    "\n",
    "# Import the GravyFlow module.\n",
    "import gravyflow as gf"
   ]
  },
  {
   "cell_type": "code",
   "execution_count": 4,
   "metadata": {},
   "outputs": [
    {
     "name": "stderr",
     "output_type": "stream",
     "text": [
      "INFO:root:TensorFlow version: 2.12.1, CUDA version: 11.8\n",
      "2024-01-10 09:50:58.510052: I tensorflow/core/common_runtime/gpu/gpu_device.cc:1635] Created device /job:localhost/replica:0/task:0/device:GPU:0 with 2000 MB memory:  -> device: 0, name: Tesla V100-SXM2-16GB, pci bus id: 0000:89:00.0, compute capability: 7.0\n",
      "INFO:root:[PhysicalDevice(name='/physical_device:GPU:0', device_type='GPU')]\n"
     ]
    }
   ],
   "source": [
    "# Set up the environment using gf.env() and return a tf.distribute.Strategy object.\n",
    "env = gf.env()"
   ]
  },
  {
   "cell_type": "code",
   "execution_count": 9,
   "metadata": {},
   "outputs": [],
   "source": [
    "phenom_d_generator : gf.WaveformGenerator = gf.cuPhenomDGenerator(\n",
    "    scaling_method=None,\n",
    "    injection_chance=1.0,\n",
    "    front_padding_duration_seconds=0.3,\n",
    "    back_padding_duration_seconds=0.0,\n",
    "    scale_factor=None,\n",
    "    network=None,\n",
    "    mass_1_msun=gf.Distribution(min_=5.0, max_=95.0, type_=gf.DistributionType.UNIFORM),\n",
    "    mass_2_msun=gf.Distribution(min_=5.0, max_=95.0, type_=gf.DistributionType.UNIFORM),\n",
    "    inclination_radians=gf.Distribution(min_=0.0, max_=np.pi, type_=gf.DistributionType.UNIFORM),\n",
    "    distance_mpc=gf.Distribution(value=1000.0, type_=gf.DistributionType.CONSTANT),\n",
    "    reference_orbital_phase_in=gf.Distribution(value=0.0, type_=gf.DistributionType.CONSTANT),\n",
    "    ascending_node_longitude=gf.Distribution(value=0.0, type_=gf.DistributionType.CONSTANT),\n",
    "    eccentricity=gf.Distribution(value=0.0, type_=gf.DistributionType.CONSTANT),\n",
    "    mean_periastron_anomaly=gf.Distribution(value=0.0, type_=gf.DistributionType.CONSTANT),\n",
    "    spin_1_in=gf.Distribution(value=0.0, type_=gf.DistributionType.CONSTANT),\n",
    "    spin_2_in=gf.Distribution(value=0.0, type_=gf.DistributionType.CONSTANT)\n",
    ")"
   ]
  },
  {
   "cell_type": "code",
   "execution_count": 10,
   "metadata": {},
   "outputs": [],
   "source": [
    "injection_generator : gf.InjectionGenerator = gf.InjectionGenerator(\n",
    "\t\tphenom_d_generator,\n",
    "\t\tvariables_to_return = [\n",
    "\t\t\tgf.WaveformParameters.MASS_1_MSUN, \n",
    "\t\t\tgf.WaveformParameters.MASS_2_MSUN\n",
    "\t\t]\n",
    "\t)"
   ]
  }
 ],
 "metadata": {
  "kernelspec": {
   "display_name": "Python 3.10.13 ('gravyflow')",
   "language": "python",
   "name": "python3"
  },
  "language_info": {
   "codemirror_mode": {
    "name": "ipython",
    "version": 3
   },
   "file_extension": ".py",
   "mimetype": "text/x-python",
   "name": "python",
   "nbconvert_exporter": "python",
   "pygments_lexer": "ipython3",
   "version": "3.10.13"
  },
  "orig_nbformat": 4,
  "vscode": {
   "interpreter": {
    "hash": "a6f1be94f56c97543b1174f0691434140ad3c33189a0dd1833b365759a987259"
   }
  }
 },
 "nbformat": 4,
 "nbformat_minor": 2
}
