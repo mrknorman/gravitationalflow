{
 "cells": [
  {
   "cell_type": "code",
   "execution_count": 1,
   "id": "feccc33f",
   "metadata": {},
   "outputs": [
    {
     "name": "stderr",
     "output_type": "stream",
     "text": [
      "2023-11-02 13:59:39.267249: I tensorflow/core/platform/cpu_feature_guard.cc:182] This TensorFlow binary is optimized to use available CPU instructions in performance-critical operations.\n",
      "To enable the following instructions: AVX2 FMA, in other operations, rebuild TensorFlow with the appropriate compiler flags.\n",
      "2023-11-02 13:59:40.266379: W tensorflow/compiler/tf2tensorrt/utils/py_utils.cc:38] TF-TRT Warning: Could not find TensorRT\n"
     ]
    },
    {
     "name": "stdout",
     "output_type": "stream",
     "text": [
      "/home/michael.norman/data_ad_infinitum\n"
     ]
    },
    {
     "name": "stderr",
     "output_type": "stream",
     "text": [
      "/home/michael.norman/.conda/envs/gravyflow/lib/python3.10/site-packages/gwpy/time/__init__.py:36: UserWarning: Wswiglal-redir-stdio:\n",
      "\n",
      "SWIGLAL standard output/error redirection is enabled in IPython.\n",
      "This may lead to performance penalties. To disable locally, use:\n",
      "\n",
      "with lal.no_swig_redirect_standard_output_error():\n",
      "    ...\n",
      "\n",
      "To disable globally, use:\n",
      "\n",
      "lal.swig_redirect_standard_output_error(True)\n",
      "\n",
      "Note however that this will likely lead to error messages from\n",
      "LAL functions being either misdirected or lost when called from\n",
      "Jupyter notebooks.\n",
      "\n",
      "To suppress this warning, use:\n",
      "\n",
      "import warnings\n",
      "warnings.filterwarnings(\"ignore\", \"Wswiglal-redir-stdio\")\n",
      "import lal\n",
      "\n",
      "  from lal import LIGOTimeGPS\n"
     ]
    }
   ],
   "source": [
    "import os\n",
    "import sys\n",
    "\n",
    "import tensorflow as tf\n",
    "\n",
    "# Get the absolute path of the parent directory\n",
    "parent_dir = os.path.abspath('../../')\n",
    "print(parent_dir)\n",
    "\n",
    "# Add the parent directory to sys.path\n",
    "if parent_dir not in sys.path:\n",
    "    sys.path.append(parent_dir)\n",
    "\n",
    "# To import gravyflow simply use:\n",
    "import gravyflow as gf"
   ]
  },
  {
   "cell_type": "markdown",
   "id": "74c64bc5",
   "metadata": {},
   "source": [
    "# Environment Setup\n",
    "\n",
    "For ease of use, GravyFlow comes with a function to automatically sort out the GPU environment: `gf.env`.\n",
    "\n",
    "It has the following optional arguments:\n",
    "\n",
    "- `min_gpu_memory_mb`: int = 4000\n",
    "  - This sets the minimum required GPU memory in megabytes for a GPU to be considered as free and allocated for use by GravyFlow. By default, this is 4000 Mb.\n",
    "- `num_gpus_to_request`: int = 1\n",
    "  - This determines the number of GPUs that GravyFlow will attempt to find and subsequently run on. The default is 1.\n",
    "- `memory_to_allocate_tf`: int = 2000\n",
    "  - This determines the amount of GPU memory that GravyFlow will allocate per GPU. This value is fixed, rather than allowing growth, to ensure that CUDA functions run by GravyFlow have memory to run. If you are using cuPhenom for CBC generation, ensure that there is room left on the GPU for it to run when you set this value. It defaults to 2000 Mb.\n",
    "\n",
    "## Return Object\n",
    "\n",
    "The function returns the following object:\n",
    "\n",
    "- `strategy`: tf.distribute.Strategy\n",
    "  - This object will allow for multi-GPU usage in subsequent TensorFlow operations.\n",
    "\n",
    "## Function Operations\n",
    "\n",
    "Calling this function will do a number of things:\n",
    "\n",
    "1. Determine avalible GPUs which have free GPU memory greater than the requested: `min_gpu_memory_mb`.\n",
    "2. Allocate a number of free GPUs equivalent to `num_gpus_to_request` for GravyFlow (TensorFlow) and cuPhenom (CUDA), by setting the `CUDA_VISIBLE_DEVICES` environmental variable.\n",
    "3. Attempt to check that your CUDA version is compatible with your TensorFlow version.\n",
    "4. Allocate `memory_to_allocate_tf` Mb of GPU memory to GravyFlow (TensorFlow) per requested GPU.\n",
    "5. Setup and return a tf.distribute.Strategy object which will allow for multi-GPU usage in subsequent TensorFlow operations.\n",
    "\n",
    "## Example Usage\n",
    "\n",
    "Below is an example of its operation:"
   ]
  },
  {
   "cell_type": "code",
   "execution_count": 4,
   "id": "db7298c7",
   "metadata": {},
   "outputs": [
    {
     "name": "stderr",
     "output_type": "stream",
     "text": [
      "INFO:root:TensorFlow version: 2.12.1, CUDA version: 11.8\n",
      "INFO:root:[PhysicalDevice(name='/physical_device:GPU:0', device_type='GPU')]\n"
     ]
    },
    {
     "name": "stdout",
     "output_type": "stream",
     "text": [
      "CUDA_VISIBLE_DEVICES after environment setup: 7\n",
      "GPUs visible to TensorFlow after environment setup: [PhysicalDevice(name='/physical_device:GPU:0', device_type='GPU')]\n"
     ]
    }
   ],
   "source": [
    "# Setup enviroment and return tf.distributed stratergy object.\n",
    "env = gf.env()\n",
    "\n",
    "# NOTE: running any TensorFlow functionality before initilising the environment will cause it to run on all GPUs by default.\n",
    "# NOTE: you cannot setup the environment more than once per Python kernel.\n",
    "\n",
    "with env:\n",
    "\n",
    "    # ALl code placed her will be in the scope of the TensorFlow strategy.\n",
    "\n",
    "    # Print CUDA_VISIBLE_DEVICES after gf.env() has run:\n",
    "    cuda_visible_devices = os.environ.get('CUDA_VISIBLE_DEVICES', 'Not set')\n",
    "    print(f'CUDA_VISIBLE_DEVICES after environment setup: {cuda_visible_devices}')\n",
    "\n",
    "    # Print devices visible to TensorFlow after gf.env() has run:\n",
    "    gpus = tf.config.list_physical_devices('GPU')\n",
    "    print(f\"GPUs visible to TensorFlow after environment setup: {gpus}\")\n",
    "    \n",
    "    pass # do nothing for this example. "
   ]
  }
 ],
 "metadata": {
  "kernelspec": {
   "display_name": "Python 3.10.12 ('gravyflow')",
   "language": "python",
   "name": "python3"
  },
  "language_info": {
   "codemirror_mode": {
    "name": "ipython",
    "version": 3
   },
   "file_extension": ".py",
   "mimetype": "text/x-python",
   "name": "python",
   "nbconvert_exporter": "python",
   "pygments_lexer": "ipython3",
   "version": "3.10.12"
  },
  "vscode": {
   "interpreter": {
    "hash": "a6f1be94f56c97543b1174f0691434140ad3c33189a0dd1833b365759a987259"
   }
  }
 },
 "nbformat": 4,
 "nbformat_minor": 5
}
